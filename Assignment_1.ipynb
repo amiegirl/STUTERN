{
  "cells": [
    {
      "cell_type": "markdown",
      "id": "28c12f4a-512d-4a18-8640-45dd48ae8b3c",
      "metadata": {
        "id": "28c12f4a-512d-4a18-8640-45dd48ae8b3c"
      },
      "source": [
        "# Assignment 1 (Week 1)\n",
        "\n",
        ">**Note**: Late submissions are ***`penalized`***.\n",
        "\n",
        "## Name: Aminat Owodunni"
      ]
    },
    {
      "cell_type": "code",
      "execution_count": null,
      "id": "5aba3d86-630f-4a40-bbf6-6e3cde1e44b9",
      "metadata": {
        "id": "5aba3d86-630f-4a40-bbf6-6e3cde1e44b9"
      },
      "outputs": [],
      "source": [
        "# Black code formatter (Optional)\n",
        "# $ pip install nb_black\n",
        "%load_ext lab_black\n",
        "\n",
        "# auto reload imports\n",
        "%load_ext autoreload\n",
        "%autoreload 2"
      ]
    },
    {
      "cell_type": "markdown",
      "id": "c5f5ad77-c752-4093-b190-919063786c35",
      "metadata": {
        "id": "c5f5ad77-c752-4093-b190-919063786c35"
      },
      "source": [
        "## Qs 1: \n",
        "\n",
        "Create a class **`Die`** with one attribute called sides, which has a default value of 6. Write a method called `roll_die()` that prints a random number between **1** and the **number of sides** the die has. Make a **6-sided** die and roll it **4** times."
      ]
    },
    {
      "cell_type": "code",
      "execution_count": 2,
      "id": "38322314-a896-46e0-b2ba-4e6415487559",
      "metadata": {
        "id": "38322314-a896-46e0-b2ba-4e6415487559"
      },
      "outputs": [],
      "source": [
        "# Write your solution here\n",
        "import random"
      ]
    },
    {
      "cell_type": "code",
      "execution_count": 3,
      "id": "d1a517b1-7062-46db-ab56-a3fc9015fe80",
      "metadata": {
        "id": "d1a517b1-7062-46db-ab56-a3fc9015fe80"
      },
      "outputs": [],
      "source": [
        "# Write your solution here\n",
        "class Die:\n",
        "    def __init__(self,sides=6):\n",
        "        self.sides = sides\n",
        "    def roll_die(self):\n",
        "        for roll in range(4):\n",
        "            print(random.randint(1,self.sides))"
      ]
    },
    {
      "cell_type": "code",
      "execution_count": 4,
      "id": "cc40be86-90e0-4d95-ab3f-a7e299c73127",
      "metadata": {
        "colab": {
          "base_uri": "https://localhost:8080/"
        },
        "id": "cc40be86-90e0-4d95-ab3f-a7e299c73127",
        "outputId": "87c450c8-0eb4-49fc-95b7-a7433622d119"
      },
      "outputs": [
        {
          "output_type": "stream",
          "name": "stdout",
          "text": [
            "3\n",
            "2\n",
            "3\n",
            "2\n"
          ]
        }
      ],
      "source": [
        "# Write your solution here\n",
        "a= Die(sides=6)\n",
        "a.roll_die()"
      ]
    },
    {
      "cell_type": "markdown",
      "id": "3cfe6485-0967-465b-b47a-c5e83c7d6a68",
      "metadata": {
        "tags": [],
        "id": "3cfe6485-0967-465b-b47a-c5e83c7d6a68"
      },
      "source": [
        "## Qs 2: \n",
        "\n",
        "Write a function called `checker()` that accepts a number between 1 and N. Your function should print **Yes** if the number is divisible by 3, **Okay** if the number is divisible by 4 and **Perfect** if the number is divisible by 12. Test your function with **2** examples as shown below:\n",
        "\n",
        "```python\n",
        "\n",
        "def checker(number: int) -> None:\n",
        "    pass\n",
        "\n",
        "checker(number=13)\n",
        "\n",
        "# 3: Yes\n",
        "# 4: Okay\n",
        "# 6: Yes\n",
        "# 8: Okay\n",
        "# 9: Yes\n",
        "# 12: Perfect\n",
        "\n",
        "checker(number=30)\n",
        "```"
      ]
    },
    {
      "cell_type": "code",
      "execution_count": 5,
      "id": "2e89f2f2-d0b0-4ca8-8971-58a5b5d0ce4b",
      "metadata": {
        "id": "2e89f2f2-d0b0-4ca8-8971-58a5b5d0ce4b"
      },
      "outputs": [],
      "source": [
        "# Write your solution here\n",
        "def checker(number: int) -> None:\n",
        "    if number%12 == 0:\n",
        "        print(\"Perfect\")\n",
        "    elif number%4 == 0:\n",
        "        print(\"Okay\")\n",
        "    elif number%3 ==0:\n",
        "        print(\"Yes\")"
      ]
    },
    {
      "cell_type": "code",
      "execution_count": 6,
      "id": "d54bf804-5776-45c1-ae47-14ce56c0bc61",
      "metadata": {
        "colab": {
          "base_uri": "https://localhost:8080/"
        },
        "id": "d54bf804-5776-45c1-ae47-14ce56c0bc61",
        "outputId": "fc499669-0179-42ab-c5fd-bcdb0648d08f"
      },
      "outputs": [
        {
          "output_type": "stream",
          "name": "stdout",
          "text": [
            "Yes\n"
          ]
        }
      ],
      "source": [
        "# Write your solution here\n",
        "checker(number=30)"
      ]
    },
    {
      "cell_type": "code",
      "execution_count": 7,
      "id": "31e9c2ac",
      "metadata": {
        "colab": {
          "base_uri": "https://localhost:8080/"
        },
        "id": "31e9c2ac",
        "outputId": "bfe5e2d6-d914-4f6e-9b4c-7ee77573551a"
      },
      "outputs": [
        {
          "output_type": "stream",
          "name": "stdout",
          "text": [
            "Okay\n"
          ]
        }
      ],
      "source": [
        "checker(number=8)"
      ]
    },
    {
      "cell_type": "markdown",
      "id": "91c78281-195b-4248-b2ca-86bb330a8b73",
      "metadata": {
        "id": "91c78281-195b-4248-b2ca-86bb330a8b73"
      },
      "source": [
        "## Qs 3: \n",
        "\n",
        "Create a class called `MeanOrMedian`. Implement two methods in your class `calculate_mean()` and `calculate_median()` that calculates the **`mean`** and the **`median`** respectively given a list. Instantiate the class `MeanOrMedian` and test the **2** `mean` and `median` methods."
      ]
    },
    {
      "cell_type": "code",
      "execution_count": 8,
      "id": "88a8958b-5ccc-405c-9822-2a2e593d49fd",
      "metadata": {
        "id": "88a8958b-5ccc-405c-9822-2a2e593d49fd"
      },
      "outputs": [],
      "source": [
        "# Write your solution here\n",
        "class MeanorMedian:\n",
        "    def __init__(self,lst):\n",
        "        self.lst = lst\n",
        "    def calculate_mean(self):\n",
        "        print(sum(self.lst)/len(self.lst))\n",
        "    def calculate_median(self):\n",
        "        lst = sorted(self.lst)\n",
        "        print((lst[len(lst)//2] + lst[(len(lst)-1)//2])/2 if len(lst)%2==0 else lst[len(lst)//2])"
      ]
    },
    {
      "cell_type": "code",
      "execution_count": 9,
      "id": "0ac08968-7724-444d-bb09-c53b29e30096",
      "metadata": {
        "colab": {
          "base_uri": "https://localhost:8080/"
        },
        "id": "0ac08968-7724-444d-bb09-c53b29e30096",
        "outputId": "c930f872-2d5e-4cc8-ef2a-3a0a568a6c6e"
      },
      "outputs": [
        {
          "output_type": "stream",
          "name": "stdout",
          "text": [
            "5.375\n"
          ]
        }
      ],
      "source": [
        "# Write your solution here\n",
        "my_list = [1,2,3,5,6,7,8,11]\n",
        "a=MeanorMedian(lst=my_list)\n",
        "a.calculate_mean()\n",
        "a;"
      ]
    },
    {
      "cell_type": "code",
      "execution_count": 10,
      "id": "c111ac13-e041-4424-a593-67b977983a5f",
      "metadata": {
        "colab": {
          "base_uri": "https://localhost:8080/"
        },
        "id": "c111ac13-e041-4424-a593-67b977983a5f",
        "outputId": "9383fed0-fe35-4a89-a34e-f47190e34945"
      },
      "outputs": [
        {
          "output_type": "stream",
          "name": "stdout",
          "text": [
            "5.5\n"
          ]
        }
      ],
      "source": [
        "a.calculate_median()\n",
        "a;"
      ]
    },
    {
      "cell_type": "markdown",
      "id": "755910de-cce0-49eb-b8d0-54fc7e30460a",
      "metadata": {
        "id": "755910de-cce0-49eb-b8d0-54fc7e30460a"
      },
      "source": [
        "## Qs 4:\n",
        "\n",
        "Write a program to create the function called `solver()`, which can accept two variables and perform **multiplication** and **division**. It must also return both **multiplication** and **division** in the same return call. Call the function using **two** different examples."
      ]
    },
    {
      "cell_type": "code",
      "execution_count": 11,
      "id": "17630778-8b55-4fd8-a2c1-198072e1e595",
      "metadata": {
        "id": "17630778-8b55-4fd8-a2c1-198072e1e595"
      },
      "outputs": [],
      "source": [
        "# Write your solution here\n",
        "def solver(a,b):\n",
        "    multiplication = a*b\n",
        "    division = a/b\n",
        "    return multiplication,division\n"
      ]
    },
    {
      "cell_type": "code",
      "execution_count": 12,
      "id": "c2a37e8f-2043-4187-b213-c73e22f77218",
      "metadata": {
        "colab": {
          "base_uri": "https://localhost:8080/"
        },
        "id": "c2a37e8f-2043-4187-b213-c73e22f77218",
        "outputId": "b7233a5e-3105-41d6-ebc2-767365c0351d"
      },
      "outputs": [
        {
          "output_type": "stream",
          "name": "stdout",
          "text": [
            "(18, 2.0)\n",
            "(8, 0.5)\n"
          ]
        }
      ],
      "source": [
        "# Write your solution here\n",
        "print(solver(6,3))\n",
        "print(solver(2,4))"
      ]
    },
    {
      "cell_type": "markdown",
      "id": "11fd8120-de4e-41c6-a9a6-8301347ce936",
      "metadata": {
        "id": "11fd8120-de4e-41c6-a9a6-8301347ce936"
      },
      "source": [
        "## Qs 5:\n",
        "\n",
        "Given the dictionary below, extract the following:\n",
        "\n",
        "a.`name`\n",
        "\n",
        "b. `height,width`\n",
        "\n",
        "c. `size`\n",
        "\n",
        "\n",
        "\n",
        "```python\n",
        "\n",
        "my_dict = {\n",
        "   \"id\": \"001\",\n",
        "   \"name\": \"dog\",\n",
        "   \"image\":\n",
        "      {\n",
        "         \"url\": \"images/001.jpg\",\n",
        "\n",
        "            \"thumbnail\":\n",
        "               {\n",
        "                  \"url\": \"images/thumbnails/001.jpg\",\n",
        "                  \"height,width\": \"3x6\"\n",
        "               },\n",
        "          \"size\": \"30 kB\"\n",
        "      }\n",
        "}\n",
        "\n",
        "```"
      ]
    },
    {
      "cell_type": "code",
      "execution_count": 13,
      "id": "b2ba6099-5668-4647-bc93-ad620bfb6be0",
      "metadata": {
        "id": "b2ba6099-5668-4647-bc93-ad620bfb6be0"
      },
      "outputs": [],
      "source": [
        "# Write your solution here\n",
        "my_dict = {\n",
        "   \"id\": \"001\",\n",
        "   \"name\": \"dog\",\n",
        "   \"image\":\n",
        "      {\n",
        "         \"url\": \"images/001.jpg\",\n",
        "\n",
        "            \"thumbnail\":\n",
        "               {\n",
        "                  \"url\": \"images/thumbnails/001.jpg\",\n",
        "                  \"height,width\": \"3x6\"\n",
        "               },\n",
        "          \"size\": \"30 kB\"\n",
        "      }\n",
        "}"
      ]
    },
    {
      "cell_type": "code",
      "execution_count": 14,
      "id": "ee8d8a36-ead3-4ca0-b98f-96864c7c7ebf",
      "metadata": {
        "colab": {
          "base_uri": "https://localhost:8080/",
          "height": 35
        },
        "id": "ee8d8a36-ead3-4ca0-b98f-96864c7c7ebf",
        "outputId": "4bdec799-204b-4229-a78b-f6be2e4542e5"
      },
      "outputs": [
        {
          "output_type": "execute_result",
          "data": {
            "text/plain": [
              "'dog'"
            ],
            "application/vnd.google.colaboratory.intrinsic+json": {
              "type": "string"
            }
          },
          "metadata": {},
          "execution_count": 14
        }
      ],
      "source": [
        "# a\n",
        "my_dict[\"name\"]"
      ]
    },
    {
      "cell_type": "code",
      "execution_count": 15,
      "id": "1bfbcb4a-3390-46a9-87a4-3c60b2c5e8f2",
      "metadata": {
        "colab": {
          "base_uri": "https://localhost:8080/",
          "height": 35
        },
        "id": "1bfbcb4a-3390-46a9-87a4-3c60b2c5e8f2",
        "outputId": "5953fb8f-ef10-4d6d-ae96-462946aa3820"
      },
      "outputs": [
        {
          "output_type": "execute_result",
          "data": {
            "text/plain": [
              "'3x6'"
            ],
            "application/vnd.google.colaboratory.intrinsic+json": {
              "type": "string"
            }
          },
          "metadata": {},
          "execution_count": 15
        }
      ],
      "source": [
        "# b\n",
        "my_dict[\"image\"][\"thumbnail\"][\"height,width\"]"
      ]
    },
    {
      "cell_type": "code",
      "execution_count": 16,
      "id": "53b7d128-d505-479e-ba13-545d173f80ac",
      "metadata": {
        "colab": {
          "base_uri": "https://localhost:8080/",
          "height": 35
        },
        "id": "53b7d128-d505-479e-ba13-545d173f80ac",
        "outputId": "ccc3f6b6-d883-45cf-9d9f-d183f7ebce52"
      },
      "outputs": [
        {
          "output_type": "execute_result",
          "data": {
            "text/plain": [
              "'30 kB'"
            ],
            "application/vnd.google.colaboratory.intrinsic+json": {
              "type": "string"
            }
          },
          "metadata": {},
          "execution_count": 16
        }
      ],
      "source": [
        "# c\n",
        "my_dict[\"image\"][\"size\"]"
      ]
    },
    {
      "cell_type": "code",
      "execution_count": 16,
      "id": "dd0b7887",
      "metadata": {
        "id": "dd0b7887"
      },
      "outputs": [],
      "source": []
    }
  ],
  "metadata": {
    "kernelspec": {
      "display_name": "base",
      "language": "python",
      "name": "python3"
    },
    "language_info": {
      "codemirror_mode": {
        "name": "ipython",
        "version": 3
      },
      "file_extension": ".py",
      "mimetype": "text/x-python",
      "name": "python",
      "nbconvert_exporter": "python",
      "pygments_lexer": "ipython3",
      "version": "3.9.13"
    },
    "vscode": {
      "interpreter": {
        "hash": "a359685e08922bcebbd2698e137097bd4e5596a613ee512a9c1ead37d8d76759"
      }
    },
    "colab": {
      "provenance": []
    }
  },
  "nbformat": 4,
  "nbformat_minor": 5
}
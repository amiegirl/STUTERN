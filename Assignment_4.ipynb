{
 "cells": [
  {
   "cell_type": "code",
   "execution_count": null,
   "id": "906c9e24-93bc-4dad-bb26-8fe679f6ba41",
   "metadata": {
    "id": "906c9e24-93bc-4dad-bb26-8fe679f6ba41",
    "scrolled": true,
    "tags": []
   },
   "outputs": [],
   "source": []
  },
  {
   "cell_type": "markdown",
   "id": "27c9aa61-8e50-4ce9-95b1-ee11d85dd067",
   "metadata": {
    "id": "27c9aa61-8e50-4ce9-95b1-ee11d85dd067"
   },
   "source": [
    "# Assignment 4 (Week 4)\n",
    "\n",
    ">**Note**: Late submissions are ***`penalized`***.\n",
    "\n",
    "## Name: Aminat Owodunni\n",
    "\n",
    "<br>\n",
    "\n",
    "### Please show and display all your calculations and results."
   ]
  },
  {
   "cell_type": "code",
   "execution_count": 1,
   "id": "5f4da313-7d5a-4b4d-a9fe-5b814bb3ab3c",
   "metadata": {
    "id": "5f4da313-7d5a-4b4d-a9fe-5b814bb3ab3c",
    "scrolled": true
   },
   "outputs": [],
   "source": [
    "# Standard imports\n",
    "import numpy as np\n",
    "import pandas as pd\n",
    "import matplotlib.pyplot as plt\n",
    "import seaborn as sns\n",
    "\n",
    "# Built-in library\n",
    "import itertools\n",
    "import re\n",
    "import json\n",
    "import typing as tp\n",
    "\n",
    "# pandas settings\n",
    "pd.options.display.max_rows = 1_000\n",
    "pd.options.display.max_columns = 1_000\n",
    "pd.options.display.max_colwidth = 1_000\n",
    "\n",
    "# Black code formatter (Optional)\n",
    "#%load_ext lab_black"
   ]
  },
  {
   "cell_type": "markdown",
   "id": "b8e08f86-85af-4c6b-98eb-15edf4284000",
   "metadata": {
    "id": "b8e08f86-85af-4c6b-98eb-15edf4284000"
   },
   "source": [
    "### nb_black Installation And Usage\n",
    "\n",
    "```bash\n",
    "# On your command line, run:\n",
    "pip install nb_black \n",
    "```\n",
    "\n",
    "\n",
    "```python\n",
    "# For jupyter notebook\n",
    "%load_ext nb_black\n",
    "\n",
    "# For jupyter lab\n",
    "%load_ext lab_black\n",
    "```\n"
   ]
  },
  {
   "cell_type": "markdown",
   "id": "c21c79d8-8ef6-43a6-9263-b95c75a7f547",
   "metadata": {
    "id": "c21c79d8-8ef6-43a6-9263-b95c75a7f547"
   },
   "source": [
    "### Qs1\n",
    "\n",
    "#### The data can be found [here](https://drive.google.com/file/d/1WFMBMR4e5o2B1rzDbOWaTorZRuKU3UOD/view?usp=share_link)\n",
    "\n",
    "a.) Create a new column called **`Name`** from the **`Artist`** column. Return the name of the artist. \\\n",
    "e.g. \\\n",
    "`Tawaraya SÅtatsu, 17th century, Gold leaf and ink on paper`: `Tawaraya SÅ tatsu` \\\n",
    "`Artist Unknown, circa 190 BCE, Marble `: `Artist Unknown`\n",
    "\n",
    "\n",
    "b.) Create a new column called **`Date`** from the `Artist` column which extracts the date/period\n",
    "from the `Artist` column. \\\n",
    "e.g. \\\n",
    "`TÅshÅ«sai Sharaku, 1794, Woodblock print`: `1974` \\\n",
    "`Artist Unknown, 196 BCE, Granodiorite`: `196 BCE`\n",
    "\n",
    "c.) Finally, Create a new column called **`Art_type`** by extracting values from `Artist` column. \\\n",
    "e.g. \\\n",
    "`TÅshÅ«sai Sharaku, 1794, Woodblock print`: `Woodblock print` \\\n",
    "`Artist Unknown, 196 BCE, Granodiorite`: `Granodiorite`\n",
    "\n",
    "* To validate your results, find the **`unique values`** in **`each column`** you created."
   ]
  },
  {
   "cell_type": "code",
   "execution_count": 2,
   "id": "85748e20-5fdf-4a91-94a7-fe85678d411b",
   "metadata": {
    "id": "85748e20-5fdf-4a91-94a7-fe85678d411b"
   },
   "outputs": [
    {
     "data": {
      "text/html": [
       "<div>\n",
       "<style scoped>\n",
       "    .dataframe tbody tr th:only-of-type {\n",
       "        vertical-align: middle;\n",
       "    }\n",
       "\n",
       "    .dataframe tbody tr th {\n",
       "        vertical-align: top;\n",
       "    }\n",
       "\n",
       "    .dataframe thead th {\n",
       "        text-align: right;\n",
       "    }\n",
       "</style>\n",
       "<table border=\"1\" class=\"dataframe\">\n",
       "  <thead>\n",
       "    <tr style=\"text-align: right;\">\n",
       "      <th></th>\n",
       "      <th>Name</th>\n",
       "      <th>Genuine</th>\n",
       "      <th>Category</th>\n",
       "      <th>Buy</th>\n",
       "      <th>Sell</th>\n",
       "      <th>Color 1</th>\n",
       "      <th>Color 2</th>\n",
       "      <th>Size</th>\n",
       "      <th>Real Artwork Title</th>\n",
       "      <th>Artist</th>\n",
       "      <th>Museum Description</th>\n",
       "      <th>Source</th>\n",
       "      <th>Source Notes</th>\n",
       "      <th>Version</th>\n",
       "      <th>HHA Concept 1</th>\n",
       "      <th>HHA Concept 2</th>\n",
       "      <th>HHA Series</th>\n",
       "      <th>HHA Set</th>\n",
       "      <th>Interact</th>\n",
       "      <th>Tag</th>\n",
       "      <th>Speaker Type</th>\n",
       "      <th>Lighting Type</th>\n",
       "      <th>Catalog</th>\n",
       "      <th>Filename</th>\n",
       "      <th>Internal ID</th>\n",
       "      <th>Unique Entry ID</th>\n",
       "    </tr>\n",
       "  </thead>\n",
       "  <tbody>\n",
       "    <tr>\n",
       "      <th>0</th>\n",
       "      <td>academic painting</td>\n",
       "      <td>Yes</td>\n",
       "      <td>Wall-mounted</td>\n",
       "      <td>4980</td>\n",
       "      <td>1245</td>\n",
       "      <td>None</td>\n",
       "      <td>None</td>\n",
       "      <td>1x1</td>\n",
       "      <td>Vitruvian Man</td>\n",
       "      <td>Leonardo da Vinci, circa 1487, Pen and ink on paper</td>\n",
       "      <td>This drawing is based on the \"ideal\" human-body ratio, as stated in \"De architectura.\" \"De architectura\" was a treatise by Vitruvius, an architect from the early 1st century BCE.</td>\n",
       "      <td>Jolly Redd's Treasure Trawler</td>\n",
       "      <td>NaN</td>\n",
       "      <td>1.2.0</td>\n",
       "      <td>expensive</td>\n",
       "      <td>facility</td>\n",
       "      <td>None</td>\n",
       "      <td>None</td>\n",
       "      <td>No</td>\n",
       "      <td>Picture</td>\n",
       "      <td>Does not play music</td>\n",
       "      <td>No lighting</td>\n",
       "      <td>Not for sale</td>\n",
       "      <td>FtrArtVitruvianMan</td>\n",
       "      <td>12619</td>\n",
       "      <td>xfTf9sfyLkxHQEz4u</td>\n",
       "    </tr>\n",
       "    <tr>\n",
       "      <th>1</th>\n",
       "      <td>academic painting</td>\n",
       "      <td>No</td>\n",
       "      <td>Wall-mounted</td>\n",
       "      <td>4980</td>\n",
       "      <td>0</td>\n",
       "      <td>None</td>\n",
       "      <td>None</td>\n",
       "      <td>1x1</td>\n",
       "      <td>Vitruvian Man</td>\n",
       "      <td>Leonardo da Vinci, circa 1487, Pen and ink on paper</td>\n",
       "      <td>This drawing is based on the \"ideal\" human-body ratio, as stated in \"De architectura.\" \"De architectura\" was a treatise by Vitruvius, an architect from the early 1st century BCE.</td>\n",
       "      <td>Jolly Redd's Treasure Trawler</td>\n",
       "      <td>NaN</td>\n",
       "      <td>1.2.0</td>\n",
       "      <td>horror</td>\n",
       "      <td>None</td>\n",
       "      <td>None</td>\n",
       "      <td>None</td>\n",
       "      <td>No</td>\n",
       "      <td>Picture</td>\n",
       "      <td>Does not play music</td>\n",
       "      <td>No lighting</td>\n",
       "      <td>Not for sale</td>\n",
       "      <td>FtrArtVitruvianManFake</td>\n",
       "      <td>12620</td>\n",
       "      <td>5KNFAo3LkdTTJPQkd</td>\n",
       "    </tr>\n",
       "  </tbody>\n",
       "</table>\n",
       "</div>"
      ],
      "text/plain": [
       "                Name Genuine      Category   Buy  Sell Color 1 Color 2 Size  \\\n",
       "0  academic painting     Yes  Wall-mounted  4980  1245    None    None  1x1   \n",
       "1  academic painting      No  Wall-mounted  4980     0    None    None  1x1   \n",
       "\n",
       "  Real Artwork Title                                               Artist  \\\n",
       "0      Vitruvian Man  Leonardo da Vinci, circa 1487, Pen and ink on paper   \n",
       "1      Vitruvian Man  Leonardo da Vinci, circa 1487, Pen and ink on paper   \n",
       "\n",
       "                                                                                                                                                                   Museum Description  \\\n",
       "0  This drawing is based on the \"ideal\" human-body ratio, as stated in \"De architectura.\" \"De architectura\" was a treatise by Vitruvius, an architect from the early 1st century BCE.   \n",
       "1  This drawing is based on the \"ideal\" human-body ratio, as stated in \"De architectura.\" \"De architectura\" was a treatise by Vitruvius, an architect from the early 1st century BCE.   \n",
       "\n",
       "                          Source  Source Notes Version HHA Concept 1  \\\n",
       "0  Jolly Redd's Treasure Trawler           NaN   1.2.0     expensive   \n",
       "1  Jolly Redd's Treasure Trawler           NaN   1.2.0        horror   \n",
       "\n",
       "  HHA Concept 2 HHA Series HHA Set Interact      Tag         Speaker Type  \\\n",
       "0      facility       None    None       No  Picture  Does not play music   \n",
       "1          None       None    None       No  Picture  Does not play music   \n",
       "\n",
       "  Lighting Type       Catalog                Filename  Internal ID  \\\n",
       "0   No lighting  Not for sale      FtrArtVitruvianMan        12619   \n",
       "1   No lighting  Not for sale  FtrArtVitruvianManFake        12620   \n",
       "\n",
       "     Unique Entry ID  \n",
       "0  xfTf9sfyLkxHQEz4u  \n",
       "1  5KNFAo3LkdTTJPQkd  "
      ]
     },
     "execution_count": 2,
     "metadata": {},
     "output_type": "execute_result"
    }
   ],
   "source": [
    "# 1a Enter your solution here\n",
    "df = pd.read_csv('art.csv')\n",
    "df.head(2)"
   ]
  },
  {
   "cell_type": "code",
   "execution_count": 3,
   "id": "17bd0b54",
   "metadata": {},
   "outputs": [
    {
     "data": {
      "text/plain": [
       "array(['Leonardo da Vinci', 'Rembrandt van Rijn', 'Artist Unknown',\n",
       "       'Thomas Gainsborough', 'Georges Seurat', 'Jean-François Millet',\n",
       "       'Itō Jakuchū', 'Katsushika Hokusai', 'Auguste Rodin',\n",
       "       'Vincent van Gogh', 'Michelangelo',\n",
       "       'Joseph Mallord William Turner', 'Hishikawa Moronobu',\n",
       "       'Thomas Ridgeway Gould', 'Giuseppe Arcimboldo',\n",
       "       'Sandro Botticelli', 'Arnold Böcklin', 'Thutmose', 'Édouard Manet',\n",
       "       'Paul Cézanne', 'Johannes Vermeer', 'Tōshūsai Sharaku',\n",
       "       'Pieter Brueghel the Elder', 'John Everett Millais',\n",
       "       'Diego Velázquez', 'Francisco de Goya', 'Tawaraya Sōtatsu',\n",
       "       'Eugène Delacroix'], dtype=object)"
      ]
     },
     "execution_count": 3,
     "metadata": {},
     "output_type": "execute_result"
    }
   ],
   "source": [
    "df['Name'] = df['Artist'].apply(lambda x: x.split(',')[0])\n",
    "df.Name.unique()"
   ]
  },
  {
   "cell_type": "code",
   "execution_count": 4,
   "id": "80b31fb5-21dc-4735-ac26-214f1a0f2f37",
   "metadata": {
    "id": "80b31fb5-21dc-4735-ac26-214f1a0f2f37",
    "scrolled": true
   },
   "outputs": [
    {
     "data": {
      "text/plain": [
       "array([' circa 1487', ' 1642', ' 1000-400 BCE', ' 1770', ' circa 130 BCE',\n",
       "       ' circa 1885', ' 1857', ' 18th century', ' circa 1831', ' 1902',\n",
       "       ' circa 1503', ' circa 1888', ' circa 1504', ' 1839',\n",
       "       ' 17th century', ' circa 1883', ' 196 BCE', ' circa 1563',\n",
       "       ' circa 1850', ' 5th century BCE', ' circa 1485', ' 1883',\n",
       "       ' circa 1345 BCE', ' 1866', ' circa 1899', ' circa 1882',\n",
       "       ' circa 1658', ' 2nd century CE', ' circa 1000 BCE', ' 1794',\n",
       "       ' 1565', ' circa 1490', ' 1852', ' circa 1656', ' 1200 BCE',\n",
       "       ' 1889', ' circa 190 BCE', ' circa 1805', ' 210 BCE',\n",
       "       ' circa 1665', ' 1830'], dtype=object)"
      ]
     },
     "execution_count": 4,
     "metadata": {},
     "output_type": "execute_result"
    }
   ],
   "source": [
    "# 1b Enter your solution here\n",
    "df['Date'] = df['Artist'].apply(lambda x: x.split(',')[1])\n",
    "df.Date.unique()"
   ]
  },
  {
   "cell_type": "code",
   "execution_count": 5,
   "id": "ed48d85c-6f70-4530-9227-42fd0ebeb604",
   "metadata": {
    "id": "ed48d85c-6f70-4530-9227-42fd0ebeb604",
    "scrolled": true
   },
   "outputs": [
    {
     "data": {
      "text/plain": [
       "array([' Pen and ink on paper', ' Oil on canvas', ' Fired pottery',\n",
       "       ' Marble', ' Dyed silk', ' Woodblock print', ' Bronze',\n",
       "       ' Oil on poplar', ' Color on silk', ' Granodiorite',\n",
       "       ' Tempura on canvas', ' Oil on wood', ' circa 1345 BCE',\n",
       "       ' andesite', ' Oil on wood panel', ' Earthenware',\n",
       "       ' Gold leaf and ink on paper'], dtype=object)"
      ]
     },
     "execution_count": 5,
     "metadata": {},
     "output_type": "execute_result"
    }
   ],
   "source": [
    "# 1c Enter your solution here\n",
    "df['Art_type'] = df['Artist'].apply(lambda x: x.split(',')[-1])\n",
    "df.Art_type.unique()"
   ]
  },
  {
   "cell_type": "markdown",
   "id": "7a694813-9c95-479a-a12e-3577c1b9d497",
   "metadata": {
    "id": "7a694813-9c95-479a-a12e-3577c1b9d497"
   },
   "source": [
    "### Qs 2:\n",
    "\n",
    "#### The data can be found [here](https://drive.google.com/file/d/1xSfSnIWZEWo9WHIXSRfOKRGcCyZ-iNtk/view?usp=share_link)\n",
    "\n",
    "a.) Write a `Python class`, **`NumericTransformers`**, that can be used to apply the following transformations to columns: `no_of_adults`, `arrival_month` and `no_of_special_requests`\n",
    "\n",
    "    i.) Sigmoid transformation\n",
    "    \n",
    "$$\\sigma(x) = \\frac {1}{1+e^{-x}}$$\n",
    "    \n",
    "    ii.) Cube root transformation\n",
    "    \n",
    "$$x_{transformed} = \\sqrt[3]{x}$$\n",
    "    \n",
    "    \n",
    "```python\n",
    "class NumericTransformers:\n",
    "    \"\"\"This class is used to apply 'Sigmoid' and 'Cube root'\n",
    "    transformations to the input data (Vector).\"\"\"\n",
    "    pass\n",
    "```\n",
    "\n",
    "Create a `new dataframe` and find the **`descriptive summary statistics`** of the newly transformed features for **each transformation**. \\\n",
    "Hint: Use `.describe()`\n",
    "\n",
    "b.) Find the **correlation** between the numeric data . Visualize your result using **Seaborn's heatmap**.\n"
   ]
  },
  {
   "cell_type": "code",
   "execution_count": 6,
   "id": "5712c2ec-da5b-4dd8-b37e-7fdb0ba7927c",
   "metadata": {
    "id": "5712c2ec-da5b-4dd8-b37e-7fdb0ba7927c",
    "scrolled": true
   },
   "outputs": [],
   "source": [
    "# 2ai Enter your solution here"
   ]
  },
  {
   "cell_type": "code",
   "execution_count": 7,
   "id": "8dd707b6-58a9-4f76-b1b4-a1bb0a55e8ad",
   "metadata": {
    "id": "8dd707b6-58a9-4f76-b1b4-a1bb0a55e8ad"
   },
   "outputs": [],
   "source": [
    "# 2aii Enter your solution here"
   ]
  },
  {
   "cell_type": "code",
   "execution_count": 8,
   "id": "f6b0870b-5e9b-4e0a-aacd-953c0618a59b",
   "metadata": {
    "id": "f6b0870b-5e9b-4e0a-aacd-953c0618a59b"
   },
   "outputs": [],
   "source": [
    "# 2b Enter your solution here"
   ]
  },
  {
   "cell_type": "code",
   "execution_count": null,
   "id": "015e0881-f01e-4c25-8b03-197bcb8f622b",
   "metadata": {
    "id": "015e0881-f01e-4c25-8b03-197bcb8f622b",
    "scrolled": true
   },
   "outputs": [],
   "source": []
  },
  {
   "cell_type": "markdown",
   "id": "a584bf3e-01a4-49c3-ad12-18dd420ffa0b",
   "metadata": {
    "id": "a584bf3e-01a4-49c3-ad12-18dd420ffa0b"
   },
   "source": [
    "### Qs 3:\n",
    "\n",
    "Given the string shown below\n",
    "\n",
    "```python\n",
    "my_string = (\n",
    "    \"You can call me on this number:(+234) 287 576 3098 or 0808 576 8013. The first number is my personal number. \"\n",
    "    \"Kyle Stevens, one of the company’s researchers, called on companies to buy fake URLs so that they can’t \"\n",
    "    \"be used by scammers for example:'www.barclays-supports.com'.\"\n",
    "    \"https://zadarma.com/en/tariffs/numbers/united-states/mobile/ \"\n",
    "    \"This is not even a valid url www.xyz .stutern.com. I tried calling this number:0803 5771 42 but it's invalid! \"\n",
    "    \"Some random number +1-814-300-8859 which I found on this website:\"\n",
    "    \"https://zadarma.com/en/tariffs/numbers/united-states/mobile/ \"\n",
    "    \"https://drive.google.com/file/d/1oP5Xz-Nrze3cK5p56XS2UcxQN1B-kZs9/view?usp=share_link \"\n",
    ")\n",
    "```\n",
    "a.) Write a RegEx pattern that displays all the valid:\n",
    "\n",
    "    i.) URLs\n",
    "\n",
    "    ii.) phone numbers (11 or more digits)\n",
    "\n",
    "b.) Given the array shown below:\n",
    "\n",
    "```python\n",
    "rng = np.random.default_rng(seed=15)\n",
    "A = rng.random(size=(10, 5))\n",
    "```\n",
    "\n",
    "i.) write a code that **normalizes** the array, `A` using:\n",
    "\n",
    "$$\n",
    "x_{new} = \\frac{x_{i} - x_{min}}{x_{max} - x_{min}}\n",
    "$$\n",
    "\n",
    "* Return the **descriptive statistics** of the normalized array.\n",
    "\n",
    "ii.) Create **histogram** of the normalized array, `A`"
   ]
  },
  {
   "cell_type": "code",
   "execution_count": 9,
   "id": "df783f1e-bd9c-4e14-84d5-22e755b8143d",
   "metadata": {
    "id": "df783f1e-bd9c-4e14-84d5-22e755b8143d"
   },
   "outputs": [
    {
     "data": {
      "text/plain": [
       "['https://zadarma.com/en/tariffs/numbers/united-states/mobile/ ',\n",
       " 'https://zadarma.com/en/tariffs/numbers/united-states/mobile/ ',\n",
       " 'https://drive.google.com/file/d/1oP5Xz-Nrze3cK5p56XS2UcxQN1B-kZs9/view?usp=share_link ']"
      ]
     },
     "execution_count": 9,
     "metadata": {},
     "output_type": "execute_result"
    }
   ],
   "source": [
    "# 3ai Enter your solution here\n",
    "\n",
    "my_string = (\n",
    "    \"You can call me on this number:(+234) 287 576 3098 or 0808 576 8013. The first number is my personal number. \"\n",
    "    \"Kyle Stevens, one of the company’s researchers, called on companies to buy fake URLs so that they can’t \"\n",
    "    \"be used by scammers for example:'www.barclays-supports.com'.\"\n",
    "    \"https://zadarma.com/en/tariffs/numbers/united-states/mobile/ \"\n",
    "    \"This is not even a valid url www.xyz .stutern.com. I tried calling this number:0803 5771 42 but it's invalid! \"\n",
    "    \"Some random number +1-814-300-8859 which I found on this website:\"\n",
    "    \"https://zadarma.com/en/tariffs/numbers/united-states/mobile/ \"\n",
    "    \"https://drive.google.com/file/d/1oP5Xz-Nrze3cK5p56XS2UcxQN1B-kZs9/view?usp=share_link \"\n",
    ")\n",
    "\n",
    "re.findall(r\"https://[^\\s]+\\s?\", my_string)"
   ]
  },
  {
   "cell_type": "code",
   "execution_count": 10,
   "id": "98c1d71c-8356-4287-8038-86e760fce8ea",
   "metadata": {
    "id": "98c1d71c-8356-4287-8038-86e760fce8ea"
   },
   "outputs": [
    {
     "data": {
      "text/plain": [
       "['(+234) 287 576 3098', ' 0808 576 8013', '0803 5771 42']"
      ]
     },
     "execution_count": 10,
     "metadata": {},
     "output_type": "execute_result"
    }
   ],
   "source": [
    "# 3aii Enter your solution here\n",
    "re.findall(r\"[-)+\\d{1,3}(]*\\s*\\d{3,4}\\s*\\d{3,4}\\s*\\d{2,4}\", my_string)"
   ]
  },
  {
   "cell_type": "code",
   "execution_count": 11,
   "id": "3cd126fb",
   "metadata": {},
   "outputs": [],
   "source": [
    "#re.findall(r\"([-+)(0-9]*)\", my_string)"
   ]
  },
  {
   "cell_type": "code",
   "execution_count": 12,
   "id": "441eba4d-e7a9-4d79-8b98-3d7c8f8fe8ba",
   "metadata": {
    "id": "441eba4d-e7a9-4d79-8b98-3d7c8f8fe8ba"
   },
   "outputs": [
    {
     "data": {
      "text/html": [
       "<div>\n",
       "<style scoped>\n",
       "    .dataframe tbody tr th:only-of-type {\n",
       "        vertical-align: middle;\n",
       "    }\n",
       "\n",
       "    .dataframe tbody tr th {\n",
       "        vertical-align: top;\n",
       "    }\n",
       "\n",
       "    .dataframe thead th {\n",
       "        text-align: right;\n",
       "    }\n",
       "</style>\n",
       "<table border=\"1\" class=\"dataframe\">\n",
       "  <thead>\n",
       "    <tr style=\"text-align: right;\">\n",
       "      <th></th>\n",
       "      <th>0</th>\n",
       "      <th>1</th>\n",
       "      <th>2</th>\n",
       "      <th>3</th>\n",
       "      <th>4</th>\n",
       "    </tr>\n",
       "  </thead>\n",
       "  <tbody>\n",
       "    <tr>\n",
       "      <th>count</th>\n",
       "      <td>10.000000</td>\n",
       "      <td>10.000000</td>\n",
       "      <td>10.000000</td>\n",
       "      <td>10.000000</td>\n",
       "      <td>10.000000</td>\n",
       "    </tr>\n",
       "    <tr>\n",
       "      <th>mean</th>\n",
       "      <td>0.489447</td>\n",
       "      <td>0.546130</td>\n",
       "      <td>0.448717</td>\n",
       "      <td>0.397542</td>\n",
       "      <td>0.646515</td>\n",
       "    </tr>\n",
       "    <tr>\n",
       "      <th>std</th>\n",
       "      <td>0.289048</td>\n",
       "      <td>0.304508</td>\n",
       "      <td>0.271435</td>\n",
       "      <td>0.354210</td>\n",
       "      <td>0.333582</td>\n",
       "    </tr>\n",
       "    <tr>\n",
       "      <th>min</th>\n",
       "      <td>0.133545</td>\n",
       "      <td>0.007978</td>\n",
       "      <td>0.059527</td>\n",
       "      <td>0.022381</td>\n",
       "      <td>0.000000</td>\n",
       "    </tr>\n",
       "    <tr>\n",
       "      <th>25%</th>\n",
       "      <td>0.269679</td>\n",
       "      <td>0.365662</td>\n",
       "      <td>0.252205</td>\n",
       "      <td>0.114887</td>\n",
       "      <td>0.410454</td>\n",
       "    </tr>\n",
       "    <tr>\n",
       "      <th>50%</th>\n",
       "      <td>0.407325</td>\n",
       "      <td>0.549814</td>\n",
       "      <td>0.405082</td>\n",
       "      <td>0.330894</td>\n",
       "      <td>0.705488</td>\n",
       "    </tr>\n",
       "    <tr>\n",
       "      <th>75%</th>\n",
       "      <td>0.773544</td>\n",
       "      <td>0.807233</td>\n",
       "      <td>0.585977</td>\n",
       "      <td>0.518566</td>\n",
       "      <td>0.929375</td>\n",
       "    </tr>\n",
       "    <tr>\n",
       "      <th>max</th>\n",
       "      <td>0.909155</td>\n",
       "      <td>0.929447</td>\n",
       "      <td>0.919950</td>\n",
       "      <td>0.990693</td>\n",
       "      <td>1.000000</td>\n",
       "    </tr>\n",
       "  </tbody>\n",
       "</table>\n",
       "</div>"
      ],
      "text/plain": [
       "               0          1          2          3          4\n",
       "count  10.000000  10.000000  10.000000  10.000000  10.000000\n",
       "mean    0.489447   0.546130   0.448717   0.397542   0.646515\n",
       "std     0.289048   0.304508   0.271435   0.354210   0.333582\n",
       "min     0.133545   0.007978   0.059527   0.022381   0.000000\n",
       "25%     0.269679   0.365662   0.252205   0.114887   0.410454\n",
       "50%     0.407325   0.549814   0.405082   0.330894   0.705488\n",
       "75%     0.773544   0.807233   0.585977   0.518566   0.929375\n",
       "max     0.909155   0.929447   0.919950   0.990693   1.000000"
      ]
     },
     "execution_count": 12,
     "metadata": {},
     "output_type": "execute_result"
    }
   ],
   "source": [
    "# 3bi Enter your solution here\n",
    "rng = np.random.default_rng(seed=15)\n",
    "A = rng.random(size=(10, 5))\n",
    "\n",
    "def normalize(X_vector: np.ndarray):\n",
    "    X_new = (X_vector - np.min(X_vector)) / (np.max(X_vector) - np.min(X_vector))\n",
    "    return pd.DataFrame(X_new).describe()\n",
    "\n",
    "normalize(X_vector=A)"
   ]
  },
  {
   "cell_type": "code",
   "execution_count": 13,
   "id": "43be3d17-904b-4193-bbd3-d03eaf48fc1c",
   "metadata": {
    "id": "43be3d17-904b-4193-bbd3-d03eaf48fc1c"
   },
   "outputs": [
    {
     "data": {
      "image/png": "[encoded data removed]",
      "text/plain": [
       "<Figure size 640x480 with 1 Axes>"
      ]
     },
     "metadata": {},
     "output_type": "display_data"
    }
   ],
   "source": [
    "# 3bii Enter your solution here\n",
    "def plot_arr(X_vector: np.ndarray):\n",
    "    X_new = (X_vector - np.min(X_vector)) / (np.max(X_vector) - np.min(X_vector))\n",
    "    return plt.hist(X_new)\n",
    "\n",
    "plot_arr(X_vector=A);"
   ]
  },
  {
   "attachments": {},
   "cell_type": "markdown",
   "id": "e276adc7-89d9-4e69-8436-9336be6c5304",
   "metadata": {
    "id": "e276adc7-89d9-4e69-8436-9336be6c5304"
   },
   "source": [
    "### Qs 4\n",
    "\n",
    "#### The data can be found [here](https://drive.google.com/file/d/1oP5Xz-Nrze3cK5p56XS2UcxQN1B-kZs9/view?usp=share_link)\n",
    "\n",
    "a.) Clean the following columns: `price`, `SSD(GB)`, `warranty(years)`, `Display(inch)` \\\n",
    "Note: Return numerical values for the cleaned columns with the corresponding unit as the appended to the column name. \\\n",
    "e.g. \\\n",
    "SSD(GB) retuns: \\\n",
    "`512 GB HDD|512 GB SSD`: `512` \\\n",
    "The Display(inch) retuns: \\\n",
    "`38.1 cm (15 inch) Display`: `15`\n",
    "\n",
    "* You might need to create **new columns** with the corresponding **column names**.\n",
    "* **To validate your result, run**:\n",
    "\n",
    "```python\n",
    "df[[\"price\", \"SSD(GB)\", \"warranty(years)\", \"Display(inch)\"]].sample(n=10, random_state=10)\n",
    "```\n",
    "\n",
    "b.) \n",
    "\n",
    "i.) Create a new column called `RAM_type` which extract the type of RAM. \\\n",
    "e.g. \\\n",
    "`32 GB LPDDR5 RAM`: `LPDDR5`\n",
    "\n",
    "ii.) Create a new column called `is_SSD` which which checks whether the `SSD` storage is SSD or not. It returns `True` if it's an `SSD` otherwise, `False`\n",
    "\n",
    "c.) Using the approriate column, create an new column called `Brand_name` by extracting the brand names. Validate your result by displaying the unique values in `Brand_name`"
   ]
  },
  {
   "cell_type": "code",
   "execution_count": 14,
   "id": "b9377e29-13e6-4a91-9120-07eb2d1a1768",
   "metadata": {
    "id": "b9377e29-13e6-4a91-9120-07eb2d1a1768",
    "scrolled": true
   },
   "outputs": [
    {
     "data": {
      "text/html": [
       "<div>\n",
       "<style scoped>\n",
       "    .dataframe tbody tr th:only-of-type {\n",
       "        vertical-align: middle;\n",
       "    }\n",
       "\n",
       "    .dataframe tbody tr th {\n",
       "        vertical-align: top;\n",
       "    }\n",
       "\n",
       "    .dataframe thead th {\n",
       "        text-align: right;\n",
       "    }\n",
       "</style>\n",
       "<table border=\"1\" class=\"dataframe\">\n",
       "  <thead>\n",
       "    <tr style=\"text-align: right;\">\n",
       "      <th></th>\n",
       "      <th>Unnamed: 0</th>\n",
       "      <th>title</th>\n",
       "      <th>price</th>\n",
       "      <th>discount</th>\n",
       "      <th>Processor</th>\n",
       "      <th>RAM</th>\n",
       "      <th>OS</th>\n",
       "      <th>SSD</th>\n",
       "      <th>Display</th>\n",
       "      <th>In_build_sw</th>\n",
       "      <th>warranty</th>\n",
       "    </tr>\n",
       "  </thead>\n",
       "  <tbody>\n",
       "    <tr>\n",
       "      <th>870</th>\n",
       "      <td>870</td>\n",
       "      <td>DELL Ryzen 7 Octa Core AMD R7-5800H - (16 GB/512 GB SSD/Windows 11 Home/6 GB Graphics/NVIDIA GeForce R...</td>\n",
       "      <td>₹1,07,990</td>\n",
       "      <td>₹1,49,18727% off</td>\n",
       "      <td>AMD Ryzen 7 Octa Core Processor</td>\n",
       "      <td>16 GB DDR4 RAM</td>\n",
       "      <td>64 bit Windows 11 Operating System</td>\n",
       "      <td>512 GB SSD</td>\n",
       "      <td>39.62 cm (15.6 inch) Display</td>\n",
       "      <td>Office Home and Student 2021</td>\n",
       "      <td>1 Year Premium Support</td>\n",
       "    </tr>\n",
       "    <tr>\n",
       "      <th>200</th>\n",
       "      <td>200</td>\n",
       "      <td>ASUS TUF Gaming A15 Ryzen 5 Hexa Core AMD R5-4600H - (8 GB/1 TB SSD/Windows 11 Home/4 GB Graphics/NVID...</td>\n",
       "      <td>₹59,990</td>\n",
       "      <td>₹75,99021% off</td>\n",
       "      <td>AMD Ryzen 5 Hexa Core Processor</td>\n",
       "      <td>8 GB DDR4 RAM</td>\n",
       "      <td>64 bit Windows 11 Operating System</td>\n",
       "      <td>1 TB SSD</td>\n",
       "      <td>39.62 cm (15.6 inch) Display</td>\n",
       "      <td>NaN</td>\n",
       "      <td>1 Year Onsite Warranty</td>\n",
       "    </tr>\n",
       "  </tbody>\n",
       "</table>\n",
       "</div>"
      ],
      "text/plain": [
       "     Unnamed: 0  \\\n",
       "870         870   \n",
       "200         200   \n",
       "\n",
       "                                                                                                         title  \\\n",
       "870  DELL Ryzen 7 Octa Core AMD R7-5800H - (16 GB/512 GB SSD/Windows 11 Home/6 GB Graphics/NVIDIA GeForce R...   \n",
       "200  ASUS TUF Gaming A15 Ryzen 5 Hexa Core AMD R5-4600H - (8 GB/1 TB SSD/Windows 11 Home/4 GB Graphics/NVID...   \n",
       "\n",
       "         price          discount                        Processor  \\\n",
       "870  ₹1,07,990  ₹1,49,18727% off  AMD Ryzen 7 Octa Core Processor   \n",
       "200    ₹59,990    ₹75,99021% off  AMD Ryzen 5 Hexa Core Processor   \n",
       "\n",
       "                RAM                                  OS         SSD  \\\n",
       "870  16 GB DDR4 RAM  64 bit Windows 11 Operating System  512 GB SSD   \n",
       "200   8 GB DDR4 RAM  64 bit Windows 11 Operating System    1 TB SSD   \n",
       "\n",
       "                          Display                   In_build_sw  \\\n",
       "870  39.62 cm (15.6 inch) Display  Office Home and Student 2021   \n",
       "200  39.62 cm (15.6 inch) Display                           NaN   \n",
       "\n",
       "                   warranty  \n",
       "870  1 Year Premium Support  \n",
       "200  1 Year Onsite Warranty  "
      ]
     },
     "execution_count": 14,
     "metadata": {},
     "output_type": "execute_result"
    }
   ],
   "source": [
    "# 4a Enter your solution here\n",
    "df=pd.read_csv('laptops.csv')\n",
    "df.sample(2)"
   ]
  },
  {
   "cell_type": "code",
   "execution_count": 15,
   "id": "5b053350",
   "metadata": {},
   "outputs": [
    {
     "data": {
      "text/html": [
       "<div>\n",
       "<style scoped>\n",
       "    .dataframe tbody tr th:only-of-type {\n",
       "        vertical-align: middle;\n",
       "    }\n",
       "\n",
       "    .dataframe tbody tr th {\n",
       "        vertical-align: top;\n",
       "    }\n",
       "\n",
       "    .dataframe thead th {\n",
       "        text-align: right;\n",
       "    }\n",
       "</style>\n",
       "<table border=\"1\" class=\"dataframe\">\n",
       "  <thead>\n",
       "    <tr style=\"text-align: right;\">\n",
       "      <th></th>\n",
       "      <th>Unnamed: 0</th>\n",
       "      <th>title</th>\n",
       "      <th>price</th>\n",
       "      <th>discount</th>\n",
       "      <th>Processor</th>\n",
       "      <th>RAM</th>\n",
       "      <th>OS</th>\n",
       "      <th>SSD</th>\n",
       "      <th>Display</th>\n",
       "      <th>In_build_sw</th>\n",
       "      <th>warranty</th>\n",
       "    </tr>\n",
       "  </thead>\n",
       "  <tbody>\n",
       "    <tr>\n",
       "      <th>0</th>\n",
       "      <td>0</td>\n",
       "      <td>DELL Vostro Core i3 11th Gen - (8 GB/1 TB HDD/256 GB SSD/Windows 11 Home) Vostro 3510 Thin and Light L...</td>\n",
       "      <td>37,990</td>\n",
       "      <td>₹58,48935% off</td>\n",
       "      <td>Processor: Intel i3-1115G4 (Base- 1.7 GHz &amp; Turbo up to 4.10 GHz) 2 Cores</td>\n",
       "      <td>RAM &amp; Storage: 8GB DDR4 &amp; 1TB HDD + 256GB SSD</td>\n",
       "      <td>Graphics &amp; Keyboard: Integrated &amp; Standard Keyboard</td>\n",
       "      <td>Display: 15.6\" FHD WVA AG Narrow Border</td>\n",
       "      <td>Intel Core i3 Processor (11th Gen)</td>\n",
       "      <td>NaN</td>\n",
       "      <td>8 GB DDR4 RAM</td>\n",
       "    </tr>\n",
       "    <tr>\n",
       "      <th>1</th>\n",
       "      <td>1</td>\n",
       "      <td>HP 14s Intel Core i3 11th Gen - (8 GB/256 GB SSD/Windows 11 Home) 14s - dy2507TU Thin and Light Laptop</td>\n",
       "      <td>35,490</td>\n",
       "      <td>₹47,20624% off</td>\n",
       "      <td>Intel Core i3 Processor (11th Gen)</td>\n",
       "      <td>8 GB DDR4 RAM</td>\n",
       "      <td>64 bit Windows 11 Operating System</td>\n",
       "      <td>256 GB SSD</td>\n",
       "      <td>35.56 cm (14 inch) Display</td>\n",
       "      <td>NaN</td>\n",
       "      <td>1 Year Onsite Warranty</td>\n",
       "    </tr>\n",
       "  </tbody>\n",
       "</table>\n",
       "</div>"
      ],
      "text/plain": [
       "   Unnamed: 0  \\\n",
       "0           0   \n",
       "1           1   \n",
       "\n",
       "                                                                                                       title  \\\n",
       "0  DELL Vostro Core i3 11th Gen - (8 GB/1 TB HDD/256 GB SSD/Windows 11 Home) Vostro 3510 Thin and Light L...   \n",
       "1     HP 14s Intel Core i3 11th Gen - (8 GB/256 GB SSD/Windows 11 Home) 14s - dy2507TU Thin and Light Laptop   \n",
       "\n",
       "    price        discount  \\\n",
       "0  37,990  ₹58,48935% off   \n",
       "1  35,490  ₹47,20624% off   \n",
       "\n",
       "                                                                   Processor  \\\n",
       "0  Processor: Intel i3-1115G4 (Base- 1.7 GHz & Turbo up to 4.10 GHz) 2 Cores   \n",
       "1                                         Intel Core i3 Processor (11th Gen)   \n",
       "\n",
       "                                             RAM  \\\n",
       "0  RAM & Storage: 8GB DDR4 & 1TB HDD + 256GB SSD   \n",
       "1                                  8 GB DDR4 RAM   \n",
       "\n",
       "                                                    OS  \\\n",
       "0  Graphics & Keyboard: Integrated & Standard Keyboard   \n",
       "1                   64 bit Windows 11 Operating System   \n",
       "\n",
       "                                       SSD  \\\n",
       "0  Display: 15.6\" FHD WVA AG Narrow Border   \n",
       "1                               256 GB SSD   \n",
       "\n",
       "                              Display In_build_sw                warranty  \n",
       "0  Intel Core i3 Processor (11th Gen)         NaN           8 GB DDR4 RAM  \n",
       "1          35.56 cm (14 inch) Display         NaN  1 Year Onsite Warranty  "
      ]
     },
     "execution_count": 15,
     "metadata": {},
     "output_type": "execute_result"
    }
   ],
   "source": [
    "df['price'] = df['price'].str.strip(',').str[1:]\n",
    "df.head(2)"
   ]
  },
  {
   "cell_type": "code",
   "execution_count": 16,
   "id": "18a2957d",
   "metadata": {},
   "outputs": [
    {
     "data": {
      "text/plain": [
       "882    512\n",
       "521    NaN\n",
       "334    NaN\n",
       "225    NaN\n",
       "244    512\n",
       "Name: SSD(GB), dtype: object"
      ]
     },
     "execution_count": 16,
     "metadata": {},
     "output_type": "execute_result"
    }
   ],
   "source": [
    "df['SSD(GB)'] = df.SSD.str.extract(\"(\\d{3})\")\n",
    "df['SSD(GB)'].sample(5)"
   ]
  },
  {
   "cell_type": "code",
   "execution_count": 17,
   "id": "3a13ba57",
   "metadata": {},
   "outputs": [
    {
     "data": {
      "text/plain": [
       "759    1 Year\n",
       "543    1 Year\n",
       "85        NaN\n",
       "5      1 Year\n",
       "3      1 Year\n",
       "Name: warranty(years), dtype: object"
      ]
     },
     "execution_count": 17,
     "metadata": {},
     "output_type": "execute_result"
    }
   ],
   "source": [
    "df['warranty(years)'] = df['warranty'].str.extract('(\\d+.Year|Years|YEAR|YEARS|year|years|month|Month|months|Months|MONTH|MONTHS)')\n",
    "df['warranty(years)'].sample(5)"
   ]
  },
  {
   "cell_type": "code",
   "execution_count": 18,
   "id": "229b8050",
   "metadata": {},
   "outputs": [
    {
     "data": {
      "text/plain": [
       "576    NaN\n",
       "243    NaN\n",
       "202    NaN\n",
       "681    NaN\n",
       "782    NaN\n",
       "Name: Display(inch), dtype: object"
      ]
     },
     "execution_count": 18,
     "metadata": {},
     "output_type": "execute_result"
    }
   ],
   "source": [
    "df['Display(inch)']= df['Display'].str.extract('(\\d{2})\\sinch')\n",
    "df['Display(inch)'].sample(5)\n"
   ]
  },
  {
   "cell_type": "code",
   "execution_count": 19,
   "id": "bb0676f3",
   "metadata": {},
   "outputs": [
    {
     "data": {
      "text/html": [
       "<div>\n",
       "<style scoped>\n",
       "    .dataframe tbody tr th:only-of-type {\n",
       "        vertical-align: middle;\n",
       "    }\n",
       "\n",
       "    .dataframe tbody tr th {\n",
       "        vertical-align: top;\n",
       "    }\n",
       "\n",
       "    .dataframe thead th {\n",
       "        text-align: right;\n",
       "    }\n",
       "</style>\n",
       "<table border=\"1\" class=\"dataframe\">\n",
       "  <thead>\n",
       "    <tr style=\"text-align: right;\">\n",
       "      <th></th>\n",
       "      <th>price</th>\n",
       "      <th>SSD(GB)</th>\n",
       "      <th>warranty(years)</th>\n",
       "      <th>Display(inch)</th>\n",
       "    </tr>\n",
       "  </thead>\n",
       "  <tbody>\n",
       "    <tr>\n",
       "      <th>242</th>\n",
       "      <td>56,340</td>\n",
       "      <td>256</td>\n",
       "      <td>1 Year</td>\n",
       "      <td>14</td>\n",
       "    </tr>\n",
       "    <tr>\n",
       "      <th>441</th>\n",
       "      <td>58,900</td>\n",
       "      <td>512</td>\n",
       "      <td>1 Year</td>\n",
       "      <td>NaN</td>\n",
       "    </tr>\n",
       "    <tr>\n",
       "      <th>260</th>\n",
       "      <td>87,701</td>\n",
       "      <td>512</td>\n",
       "      <td>1 Year</td>\n",
       "      <td>NaN</td>\n",
       "    </tr>\n",
       "    <tr>\n",
       "      <th>546</th>\n",
       "      <td>30,490</td>\n",
       "      <td>256</td>\n",
       "      <td>1 Year</td>\n",
       "      <td>14</td>\n",
       "    </tr>\n",
       "    <tr>\n",
       "      <th>849</th>\n",
       "      <td>24,540</td>\n",
       "      <td>256</td>\n",
       "      <td>1 Year</td>\n",
       "      <td>14</td>\n",
       "    </tr>\n",
       "    <tr>\n",
       "      <th>264</th>\n",
       "      <td>2,11,990</td>\n",
       "      <td>NaN</td>\n",
       "      <td>1 Year</td>\n",
       "      <td>NaN</td>\n",
       "    </tr>\n",
       "    <tr>\n",
       "      <th>768</th>\n",
       "      <td>61,890</td>\n",
       "      <td>256</td>\n",
       "      <td>YEAR</td>\n",
       "      <td>NaN</td>\n",
       "    </tr>\n",
       "    <tr>\n",
       "      <th>790</th>\n",
       "      <td>1,03,990</td>\n",
       "      <td>512</td>\n",
       "      <td>1 Year</td>\n",
       "      <td>NaN</td>\n",
       "    </tr>\n",
       "    <tr>\n",
       "      <th>293</th>\n",
       "      <td>74,890</td>\n",
       "      <td>NaN</td>\n",
       "      <td>NaN</td>\n",
       "      <td>NaN</td>\n",
       "    </tr>\n",
       "    <tr>\n",
       "      <th>442</th>\n",
       "      <td>1,15,736</td>\n",
       "      <td>NaN</td>\n",
       "      <td>1 Year</td>\n",
       "      <td>NaN</td>\n",
       "    </tr>\n",
       "  </tbody>\n",
       "</table>\n",
       "</div>"
      ],
      "text/plain": [
       "        price SSD(GB) warranty(years) Display(inch)\n",
       "242    56,340     256          1 Year            14\n",
       "441    58,900     512          1 Year           NaN\n",
       "260    87,701     512          1 Year           NaN\n",
       "546    30,490     256          1 Year            14\n",
       "849    24,540     256          1 Year            14\n",
       "264  2,11,990     NaN          1 Year           NaN\n",
       "768    61,890     256            YEAR           NaN\n",
       "790  1,03,990     512          1 Year           NaN\n",
       "293    74,890     NaN             NaN           NaN\n",
       "442  1,15,736     NaN          1 Year           NaN"
      ]
     },
     "execution_count": 19,
     "metadata": {},
     "output_type": "execute_result"
    }
   ],
   "source": [
    "df[[\"price\", \"SSD(GB)\", \"warranty(years)\", \"Display(inch)\"]].sample(n=10, random_state=10)"
   ]
  },
  {
   "cell_type": "code",
   "execution_count": 20,
   "id": "315980f2-d047-4213-ba28-231774b5fb37",
   "metadata": {
    "id": "315980f2-d047-4213-ba28-231774b5fb37",
    "scrolled": true
   },
   "outputs": [
    {
     "data": {
      "text/plain": [
       "492    DDR4 \n",
       "244    DDR4 \n",
       "484    DDR4 \n",
       "130    DDR4 \n",
       "372    DDR4 \n",
       "Name: RAM_type, dtype: object"
      ]
     },
     "execution_count": 20,
     "metadata": {},
     "output_type": "execute_result"
    }
   ],
   "source": [
    "# 4bi Enter your solution here\n",
    "df['RAM_type']= df['RAM'].str.extract('([A-Z]+\\d.)')\n",
    "df['RAM_type'].sample(5)\n"
   ]
  },
  {
   "cell_type": "code",
   "execution_count": 21,
   "id": "4f8c7aa0",
   "metadata": {},
   "outputs": [
    {
     "data": {
      "text/plain": [
       "255     True\n",
       "458    False\n",
       "859     True\n",
       "668     True\n",
       "326     True\n",
       "Name: is_SSD, dtype: bool"
      ]
     },
     "execution_count": 21,
     "metadata": {},
     "output_type": "execute_result"
    }
   ],
   "source": [
    "#4bii\n",
    "df['is_SSD'] = df['SSD'].str.contains('SSD')\n",
    "df['is_SSD'].sample(5)"
   ]
  },
  {
   "cell_type": "code",
   "execution_count": 22,
   "id": "f6507f32-02e5-4418-a025-0d02b8092fad",
   "metadata": {
    "id": "f6507f32-02e5-4418-a025-0d02b8092fad",
    "scrolled": true
   },
   "outputs": [
    {
     "data": {
      "text/plain": [
       "array(['DELL', 'HP', 'Lenovo', 'ASUS', 'RedmiBook', 'acer', 'Infinix',\n",
       "       'APPLE', 'MSI', 'SAMSUNG', 'realme', 'ALIENWARE', 'GIGABYTE',\n",
       "       'Avita', 'Nokia', 'Vaio', 'Mi', 'LG', 'Ultimus'], dtype=object)"
      ]
     },
     "execution_count": 22,
     "metadata": {},
     "output_type": "execute_result"
    }
   ],
   "source": [
    "# 4ci Enter your solution here\n",
    "df['Brand_name'] = df['title'].apply(lambda x: x.split(' ')[0])\n",
    "df.Brand_name.unique()"
   ]
  },
  {
   "cell_type": "code",
   "execution_count": null,
   "id": "683f4981-5566-47cd-889c-712a1a09b5c0",
   "metadata": {
    "id": "683f4981-5566-47cd-889c-712a1a09b5c0",
    "scrolled": true
   },
   "outputs": [],
   "source": []
  }
 ],
 "metadata": {
  "colab": {
   "provenance": []
  },
  "kernelspec": {
   "display_name": "Python 3 (ipykernel)",
   "language": "python",
   "name": "python3"
  },
  "language_info": {
   "codemirror_mode": {
    "name": "ipython",
    "version": 3
   },
   "file_extension": ".py",
   "mimetype": "text/x-python",
   "name": "python",
   "nbconvert_exporter": "python",
   "pygments_lexer": "ipython3",
   "version": "3.9.13"
  },
  "vscode": {
   "interpreter": {
    "hash": "a359685e08922bcebbd2698e137097bd4e5596a613ee512a9c1ead37d8d76759"
   }
  }
 },
 "nbformat": 4,
 "nbformat_minor": 5
}

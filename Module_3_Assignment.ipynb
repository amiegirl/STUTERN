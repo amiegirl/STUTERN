{
  "cells": [
    {
      "cell_type": "markdown",
      "metadata": {
        "id": "qT0P8Q8ra7vi"
      },
      "source": [
        "### QUESTIONS\n",
        "\n",
        "With the aid of the data provided in the notepad file __[here](https://drive.google.com/file/d/16cUWxZzPxDRWItgmZd5kyOFw7szsd8wt/view?usp=drivesdk)__, write SQL queries with sqlite that perform the following:\n",
        "\n",
        "1.\tCreate a table named “employee” with columns as:\n",
        "    a)\tEmployee_id (int): Make it the primary key<br>\n",
        "    b)\tLast_name<br> \n",
        "    c)\tFirst_name<br>\n",
        "    d)\tPosition<br>\n",
        "    e)\tSalary<br>\n",
        "    f)\tdate_hired<br>\n",
        "2.\tWrite a query to get the ‘unique’ Position from employee table\n",
        "3.\tWrite a query to get all employee details from the employee table, order by first_name, in descending order.\n",
        "4.\tWrite a query that returns employees’ first_name, last_name and salary, for salary greater than 200,000.\n",
        "5.\tOne of the employees whose first_name was RUDA got married and changed her last_name to Peter, write a query to effect this change on her last name, thereafter, write a query that returns all her details to enable you view the change made to her name.\n",
        "6.\tOne of the employees with last_name ‘KWAME’ left the organization for another job, write a query that removes his name from the database. View the whole table by writing another query to verify the change that was made to the employee.\n",
        "7.\tWrite a query that renames the column “Position” to “job_role”\n",
        "8.\tWrite a query to get the employee_id, (first_name, last_name), salary in ascending order of salary. Alias the first_name and last_name as “Name”.\n",
        "9.\tWrite a query that gives the count of employees whose salaries are greater than 200,000. [Hint: Use the “COUNT” clause]\n",
        "10.\tWrite a query to get the maximum and minimum salary from the employees table. [Hint: Use the MAX, MIN functions]\n"
      ]
    },
    {
      "cell_type": "code",
      "execution_count": null,
      "metadata": {
        "id": "d7ZysCUqa7v3",
        "outputId": "9bb76f72-670f-4e60-d457-702d25537945"
      },
      "outputs": [
        {
          "name": "stdout",
          "output_type": "stream",
          "text": [
            "Successfully imported module\n",
            "Database created successfully!\n",
            "<class 'sqlite3.Connection'>\n",
            "cursor created successfully \n",
            " <class 'sqlite3.Cursor'>\n"
          ]
        }
      ],
      "source": [
        "#1\n",
        "import sqlite3\n",
        "print(\"Successfully imported module\")\n",
        "\n",
        "# create a database\n",
        "conn = sqlite3.connect(\"employee.db\")\n",
        "\n",
        "# check that the connection is succesful\n",
        "print(\"Database created successfully!\") ; print(type(conn))\n",
        "\n",
        "# create a cursor object that allows the execution of SQL statements\n",
        "cursor = conn.cursor()\n",
        "print(\"cursor created successfully \\n\", type(cursor))"
      ]
    },
    {
      "cell_type": "code",
      "execution_count": null,
      "metadata": {
        "id": "CAbjYoRLa7wE",
        "outputId": "55ed9efc-d475-4e31-ae89-bdbeca1f6924"
      },
      "outputs": [
        {
          "name": "stdout",
          "output_type": "stream",
          "text": [
            "Table created successfully\n"
          ]
        }
      ],
      "source": [
        "# create a table called employee\n",
        "cursor.execute(\"\"\"CREATE TABLE employee(Employee_id INTEGER PRIMARY KEY AUTOINCREMENT, Last_name TEXT, First_name TEXT, Position INTEGER, Salary INTEGER, Date_hired INTEGER)\"\"\")\n",
        "print(\"Table created successfully\")"
      ]
    },
    {
      "cell_type": "code",
      "execution_count": null,
      "metadata": {
        "id": "od3gWfV1a7wH",
        "outputId": "b00a163d-62c3-4941-a48d-48c057ff5990"
      },
      "outputs": [
        {
          "name": "stdout",
          "output_type": "stream",
          "text": [
            "[('Lew', 'Allen', 'City Administrator', 295000, 2004), ('Sessoms', 'Allen', 'President', 295000, 2008), ('HENDERSON', 'KAYATANYA', 'Superintendent Of Schools', 275000, 2007), ('Lanier', 'Cathy', 'Chief', 230743, 1990), ('Arons', 'Bernard', 'Medical Officer Psych', 206000, 2008), ('Ritchie', 'Elspeth', 'Medical Officer Psych', 206000, 2010), ('GRAY', 'VINCENT', 'Mayor', 200000, 2005), ('Marshall', 'Katherine', 'Medical Officer Psych', 200000, 2008), ('Gandhi', 'Natwar', 'Chief Financial Officer', 199700, 1997), ('DUNCAN', 'LORETTA', 'Workers Compensation Recipient', 197808, 1984), ('Baxter', 'Graeme', 'Act Provost & Vp Acd Aff', 196257, 2008), ('Miramontes', 'David', 'Medical Director', 193125, 2011), ('Graves', 'Warren', 'Chief Of Staff', 193125, 2011), ('Stanchfield', 'Eric', 'Executive Director', 193125, 2007), ('Jones', 'Tyler', 'Medical Officer Psych', 190550, 2008), ('BROWN', 'KWAME', 'Chairman', 190000, 2005), ('Eure', 'Philip', 'Executive Director', 188692, 2000), ('Cooper', 'Ginnie', 'Executive Director', 188044, 2006), ('Yadao', 'Nilda', 'Medical Officer (psychiatry)', 188027, 1987), ('Ellerbe', 'Kenneth', 'Fire Chief', 187302, 2003), ('Ruland', 'Jeffrey', 'Dir Of The Ctr For Wf Str & Ec', 186911, 2009), ('Parker', 'Craig', 'General Counsel', 186911, 2009), ('Farley', 'Mark', 'Vp  Human Resources', 186911, 2008), ('Otero', 'Beatriz', 'Dep Mayor For Hlth & Hum Svcs', 185000, 2011), ('Quander', 'Paul', 'Deputy Mayor', 185000, 2009), ('Pierre ', 'Louis Marie', 'Chief Medical Examiner', 185000, 1985), ('Pestaner', 'Joseph', 'Medical Officer (medical Exami', 183892, 1997), ('Revercomb', 'Carolyn', 'Medical Officer (medical Exami', 183892, 2005), ('Morgan ', 'Johnson Sheila', 'Chief Investment Officer', 183677, 1991), ('Williamson', 'Michael', 'Deputy Director', 182000, 2011), ('White', 'Mattie', 'Medical Officer (psychiatry)', 180604, 1989), ('Park', 'Kyung', 'Medical Officer (psychiatry)', 180604, 1987), ('Gore', 'T', 'Medical Officer (psychiatry)', 172101, 2005), ('LUDWIG', 'BENJAMIN', 'Workers Compensation Recipient', 171517, 1972), ('Atdjian', 'Sylvia', 'Medical Officer (psychiatry)', 170938, 2007), ('Zaidi', 'Syed', 'Medical Officer (psychiatry)', 170344, 2005), ('Sherron', 'Robert', 'Medical Officer (psychiatry)', 170344, 1991), ('Johnson', 'Nicole', 'Medical Officer (psychiatry)', 170344, 2007), ('RUDA', 'LISA', 'Chief Of Staff', 170000, 2007), ('Beers', 'Nathaniel', 'Deputy Superintendent', 170000, 2007), ('Nuss', 'Laura', 'Director', 170000, 2007), ('Mancini', 'Robert', 'Acting Director', 170000, 2004), ('Wicker', 'Henry', 'Medical Officer Opthal', 168378, 1987), ('Davenport', 'Nancy', 'Administrative Librarian', 167200, 2006), ('Jaji', 'Abayomi', 'Medical Officer (psychiatry)', 167062, 2000), ('Stevens', 'KyleeAnn', 'Medical Officer (psychiatry)', 167051, 2008), ('Smothers', 'Kenneth', 'Medical Officer (psychiatry)', 166995, 1987), ('Akhtar', 'Saleha', 'Medical Officer (psychiatry)', 166995, 1988), ('Singh', 'Anjali', 'Medical Officer (psychiatry)', 166370, 1999), ('Rahman', 'Umar', 'Medical Officer (psychiatry)', 166370, 1996), ('Adewale', 'Benjamin', 'Medical Officer (psychiatry)', 166370, 1988), ('Zaidi', 'Syed', 'Medical Officer General Practi', 165842, 1983), ('Jackson', 'Kenneth', 'Assistant Fire Chief Srvs', 165306, 1982), ('Berns', 'David', 'Dir Of Human Services', 165200, 2011), ('Cordi', 'Stephen', 'Deputy Cfo Otr', 165162, 2008), ('Mallory', 'Lisa', 'Acting Director', 165000, 2004), ('Flowers', 'Brian', 'General Counsel', 165000, 1985), ('Bellamy', 'Terry', 'Director', 165000, 2008), ('West', 'Millicent', 'Director Homeland Sec & Ema', 165000, 2003), ('Pappas', 'Gregory', 'Deputy Dir', 164800, 2011), ('Altaf', 'Samia', 'Supervisor Medical Officer', 164800, 2010), ('Owens', 'Karen', 'Dental Officer', 164800, 1989)]\n"
          ]
        }
      ],
      "source": [
        "import pandas as pd\n",
        "employees_df = pd.read_csv('employees.csv', delimiter=',')\n",
        "employees_list = [tuple(row) for row in employees_df.values]\n",
        "print(employees_list)\n"
      ]
    },
    {
      "cell_type": "code",
      "execution_count": null,
      "metadata": {
        "id": "LdarpM5za7wK",
        "outputId": "5927af0d-422f-41ce-ce14-3c3ace9e2e41"
      },
      "outputs": [
        {
          "name": "stdout",
          "output_type": "stream",
          "text": [
            "we have inserted 62 records to the table\n"
          ]
        }
      ],
      "source": [
        "# insert rows\n",
        "cursor.executemany(\"INSERT INTO employee(Last_name, First_name, Position, Salary, Date_hired) VALUES(?,?,?,?,?)\", employees_list)\n",
        "\n",
        "# Print confirmation message\n",
        "print(\"we have inserted\", cursor.rowcount,\"records to the table\")\n"
      ]
    },
    {
      "cell_type": "code",
      "execution_count": null,
      "metadata": {
        "id": "nbdKixEla7wN",
        "outputId": "077abe41-2e3b-4886-a01f-aa6310bd0e82"
      },
      "outputs": [
        {
          "data": {
            "text/plain": [
              "<sqlite3.Cursor at 0x1cc3206b490>"
            ]
          },
          "execution_count": 59,
          "metadata": {},
          "output_type": "execute_result"
        }
      ],
      "source": [
        "# cursor.execute(\"DROP TABLE employee\")"
      ]
    },
    {
      "cell_type": "code",
      "execution_count": null,
      "metadata": {
        "id": "HJgujk7ka7wQ",
        "outputId": "85b8458c-fe26-4e34-a80d-49998d260b8b"
      },
      "outputs": [
        {
          "name": "stdout",
          "output_type": "stream",
          "text": [
            "(1, 'Lew', 'Allen', 'City Administrator', 295000, 2004)\n",
            "(2, 'Sessoms', 'Allen', 'President', 295000, 2008)\n",
            "(3, 'HENDERSON', 'KAYATANYA', 'Superintendent Of Schools', 275000, 2007)\n",
            "(4, 'Lanier', 'Cathy', 'Chief', 230743, 1990)\n",
            "(5, 'Arons', 'Bernard', 'Medical Officer Psych', 206000, 2008)\n",
            "(6, 'Ritchie', 'Elspeth', 'Medical Officer Psych', 206000, 2010)\n",
            "(7, 'GRAY', 'VINCENT', 'Mayor', 200000, 2005)\n",
            "(8, 'Marshall', 'Katherine', 'Medical Officer Psych', 200000, 2008)\n",
            "(9, 'Gandhi', 'Natwar', 'Chief Financial Officer', 199700, 1997)\n",
            "(10, 'DUNCAN', 'LORETTA', 'Workers Compensation Recipient', 197808, 1984)\n",
            "(11, 'Baxter', 'Graeme', 'Act Provost & Vp Acd Aff', 196257, 2008)\n",
            "(12, 'Miramontes', 'David', 'Medical Director', 193125, 2011)\n",
            "(13, 'Graves', 'Warren', 'Chief Of Staff', 193125, 2011)\n",
            "(14, 'Stanchfield', 'Eric', 'Executive Director', 193125, 2007)\n",
            "(15, 'Jones', 'Tyler', 'Medical Officer Psych', 190550, 2008)\n",
            "(16, 'BROWN', 'KWAME', 'Chairman', 190000, 2005)\n",
            "(17, 'Eure', 'Philip', 'Executive Director', 188692, 2000)\n",
            "(18, 'Cooper', 'Ginnie', 'Executive Director', 188044, 2006)\n",
            "(19, 'Yadao', 'Nilda', 'Medical Officer (psychiatry)', 188027, 1987)\n",
            "(20, 'Ellerbe', 'Kenneth', 'Fire Chief', 187302, 2003)\n",
            "(21, 'Ruland', 'Jeffrey', 'Dir Of The Ctr For Wf Str & Ec', 186911, 2009)\n",
            "(22, 'Parker', 'Craig', 'General Counsel', 186911, 2009)\n",
            "(23, 'Farley', 'Mark', 'Vp  Human Resources', 186911, 2008)\n",
            "(24, 'Otero', 'Beatriz', 'Dep Mayor For Hlth & Hum Svcs', 185000, 2011)\n",
            "(25, 'Quander', 'Paul', 'Deputy Mayor', 185000, 2009)\n",
            "(26, 'Pierre ', 'Louis Marie', 'Chief Medical Examiner', 185000, 1985)\n",
            "(27, 'Pestaner', 'Joseph', 'Medical Officer (medical Exami', 183892, 1997)\n",
            "(28, 'Revercomb', 'Carolyn', 'Medical Officer (medical Exami', 183892, 2005)\n",
            "(29, 'Morgan ', 'Johnson Sheila', 'Chief Investment Officer', 183677, 1991)\n",
            "(30, 'Williamson', 'Michael', 'Deputy Director', 182000, 2011)\n",
            "(31, 'White', 'Mattie', 'Medical Officer (psychiatry)', 180604, 1989)\n",
            "(32, 'Park', 'Kyung', 'Medical Officer (psychiatry)', 180604, 1987)\n",
            "(33, 'Gore', 'T', 'Medical Officer (psychiatry)', 172101, 2005)\n",
            "(34, 'LUDWIG', 'BENJAMIN', 'Workers Compensation Recipient', 171517, 1972)\n",
            "(35, 'Atdjian', 'Sylvia', 'Medical Officer (psychiatry)', 170938, 2007)\n",
            "(36, 'Zaidi', 'Syed', 'Medical Officer (psychiatry)', 170344, 2005)\n",
            "(37, 'Sherron', 'Robert', 'Medical Officer (psychiatry)', 170344, 1991)\n",
            "(38, 'Johnson', 'Nicole', 'Medical Officer (psychiatry)', 170344, 2007)\n",
            "(39, 'RUDA', 'LISA', 'Chief Of Staff', 170000, 2007)\n",
            "(40, 'Beers', 'Nathaniel', 'Deputy Superintendent', 170000, 2007)\n",
            "(41, 'Nuss', 'Laura', 'Director', 170000, 2007)\n",
            "(42, 'Mancini', 'Robert', 'Acting Director', 170000, 2004)\n",
            "(43, 'Wicker', 'Henry', 'Medical Officer Opthal', 168378, 1987)\n",
            "(44, 'Davenport', 'Nancy', 'Administrative Librarian', 167200, 2006)\n",
            "(45, 'Jaji', 'Abayomi', 'Medical Officer (psychiatry)', 167062, 2000)\n",
            "(46, 'Stevens', 'KyleeAnn', 'Medical Officer (psychiatry)', 167051, 2008)\n",
            "(47, 'Smothers', 'Kenneth', 'Medical Officer (psychiatry)', 166995, 1987)\n",
            "(48, 'Akhtar', 'Saleha', 'Medical Officer (psychiatry)', 166995, 1988)\n",
            "(49, 'Singh', 'Anjali', 'Medical Officer (psychiatry)', 166370, 1999)\n",
            "(50, 'Rahman', 'Umar', 'Medical Officer (psychiatry)', 166370, 1996)\n",
            "(51, 'Adewale', 'Benjamin', 'Medical Officer (psychiatry)', 166370, 1988)\n",
            "(52, 'Zaidi', 'Syed', 'Medical Officer General Practi', 165842, 1983)\n",
            "(53, 'Jackson', 'Kenneth', 'Assistant Fire Chief Srvs', 165306, 1982)\n",
            "(54, 'Berns', 'David', 'Dir Of Human Services', 165200, 2011)\n",
            "(55, 'Cordi', 'Stephen', 'Deputy Cfo Otr', 165162, 2008)\n",
            "(56, 'Mallory', 'Lisa', 'Acting Director', 165000, 2004)\n",
            "(57, 'Flowers', 'Brian', 'General Counsel', 165000, 1985)\n",
            "(58, 'Bellamy', 'Terry', 'Director', 165000, 2008)\n",
            "(59, 'West', 'Millicent', 'Director Homeland Sec & Ema', 165000, 2003)\n",
            "(60, 'Pappas', 'Gregory', 'Deputy Dir', 164800, 2011)\n",
            "(61, 'Altaf', 'Samia', 'Supervisor Medical Officer', 164800, 2010)\n",
            "(62, 'Owens', 'Karen', 'Dental Officer', 164800, 1989)\n"
          ]
        }
      ],
      "source": [
        "sql = \"SELECT * FROM employee\"\n",
        "cursor.execute(sql)\n",
        "result = cursor.fetchall()\n",
        "for i in result:\n",
        "    print(i)"
      ]
    },
    {
      "cell_type": "code",
      "execution_count": null,
      "metadata": {
        "id": "auz_Bd54a7wU"
      },
      "outputs": [],
      "source": [
        "conn.commit()"
      ]
    },
    {
      "cell_type": "code",
      "execution_count": null,
      "metadata": {
        "id": "yYsh7dtza7wW",
        "outputId": "d6a7d65d-7eb3-409b-e1ef-0d3be6100533"
      },
      "outputs": [
        {
          "name": "stdout",
          "output_type": "stream",
          "text": [
            "('City Administrator',)\n",
            "('President',)\n",
            "('Superintendent Of Schools',)\n",
            "('Chief',)\n",
            "('Medical Officer Psych',)\n",
            "('Mayor',)\n",
            "('Chief Financial Officer',)\n",
            "('Workers Compensation Recipient',)\n",
            "('Act Provost & Vp Acd Aff',)\n",
            "('Medical Director',)\n",
            "('Chief Of Staff',)\n",
            "('Executive Director',)\n",
            "('Chairman',)\n",
            "('Medical Officer (psychiatry)',)\n",
            "('Fire Chief',)\n",
            "('Dir Of The Ctr For Wf Str & Ec',)\n",
            "('General Counsel',)\n",
            "('Vp  Human Resources',)\n",
            "('Dep Mayor For Hlth & Hum Svcs',)\n",
            "('Deputy Mayor',)\n",
            "('Chief Medical Examiner',)\n",
            "('Medical Officer (medical Exami',)\n",
            "('Chief Investment Officer',)\n",
            "('Deputy Director',)\n",
            "('Deputy Superintendent',)\n",
            "('Director',)\n",
            "('Acting Director',)\n",
            "('Medical Officer Opthal',)\n",
            "('Administrative Librarian',)\n",
            "('Medical Officer General Practi',)\n",
            "('Assistant Fire Chief Srvs',)\n",
            "('Dir Of Human Services',)\n",
            "('Deputy Cfo Otr',)\n",
            "('Director Homeland Sec & Ema',)\n",
            "('Deputy Dir',)\n",
            "('Supervisor Medical Officer',)\n",
            "('Dental Officer',)\n"
          ]
        }
      ],
      "source": [
        "#2. Write a query to get the ‘unique’ Position from employee table\n",
        "\n",
        "dp = \"SELECT DISTINCT Position FROM employee\"\n",
        "cursor.execute(dp)\n",
        "result_dp = cursor.fetchall()\n",
        "for p in result_dp:\n",
        "    print(p)"
      ]
    },
    {
      "cell_type": "code",
      "execution_count": null,
      "metadata": {
        "id": "Y0g46IRDa7wZ",
        "outputId": "b9a6d13b-abcf-4ae1-e673-6d6df03478ac"
      },
      "outputs": [
        {
          "name": "stdout",
          "output_type": "stream",
          "text": [
            "(13, 'Graves', 'Warren', 'Chief Of Staff', 193125, 2011)\n",
            "(7, 'GRAY', 'VINCENT', 'Mayor', 200000, 2005)\n",
            "(50, 'Rahman', 'Umar', 'Medical Officer (psychiatry)', 166370, 1996)\n",
            "(15, 'Jones', 'Tyler', 'Medical Officer Psych', 190550, 2008)\n",
            "(58, 'Bellamy', 'Terry', 'Director', 165000, 2008)\n",
            "(33, 'Gore', 'T', 'Medical Officer (psychiatry)', 172101, 2005)\n",
            "(35, 'Atdjian', 'Sylvia', 'Medical Officer (psychiatry)', 170938, 2007)\n",
            "(36, 'Zaidi', 'Syed', 'Medical Officer (psychiatry)', 170344, 2005)\n",
            "(52, 'Zaidi', 'Syed', 'Medical Officer General Practi', 165842, 1983)\n",
            "(55, 'Cordi', 'Stephen', 'Deputy Cfo Otr', 165162, 2008)\n",
            "(61, 'Altaf', 'Samia', 'Supervisor Medical Officer', 164800, 2010)\n",
            "(48, 'Akhtar', 'Saleha', 'Medical Officer (psychiatry)', 166995, 1988)\n",
            "(37, 'Sherron', 'Robert', 'Medical Officer (psychiatry)', 170344, 1991)\n",
            "(42, 'Mancini', 'Robert', 'Acting Director', 170000, 2004)\n",
            "(17, 'Eure', 'Philip', 'Executive Director', 188692, 2000)\n",
            "(25, 'Quander', 'Paul', 'Deputy Mayor', 185000, 2009)\n",
            "(19, 'Yadao', 'Nilda', 'Medical Officer (psychiatry)', 188027, 1987)\n",
            "(38, 'Johnson', 'Nicole', 'Medical Officer (psychiatry)', 170344, 2007)\n",
            "(9, 'Gandhi', 'Natwar', 'Chief Financial Officer', 199700, 1997)\n",
            "(40, 'Beers', 'Nathaniel', 'Deputy Superintendent', 170000, 2007)\n",
            "(44, 'Davenport', 'Nancy', 'Administrative Librarian', 167200, 2006)\n",
            "(59, 'West', 'Millicent', 'Director Homeland Sec & Ema', 165000, 2003)\n",
            "(30, 'Williamson', 'Michael', 'Deputy Director', 182000, 2011)\n",
            "(31, 'White', 'Mattie', 'Medical Officer (psychiatry)', 180604, 1989)\n",
            "(23, 'Farley', 'Mark', 'Vp  Human Resources', 186911, 2008)\n",
            "(26, 'Pierre ', 'Louis Marie', 'Chief Medical Examiner', 185000, 1985)\n",
            "(56, 'Mallory', 'Lisa', 'Acting Director', 165000, 2004)\n",
            "(41, 'Nuss', 'Laura', 'Director', 170000, 2007)\n",
            "(10, 'DUNCAN', 'LORETTA', 'Workers Compensation Recipient', 197808, 1984)\n",
            "(39, 'RUDA', 'LISA', 'Chief Of Staff', 170000, 2007)\n",
            "(32, 'Park', 'Kyung', 'Medical Officer (psychiatry)', 180604, 1987)\n",
            "(46, 'Stevens', 'KyleeAnn', 'Medical Officer (psychiatry)', 167051, 2008)\n",
            "(20, 'Ellerbe', 'Kenneth', 'Fire Chief', 187302, 2003)\n",
            "(47, 'Smothers', 'Kenneth', 'Medical Officer (psychiatry)', 166995, 1987)\n",
            "(53, 'Jackson', 'Kenneth', 'Assistant Fire Chief Srvs', 165306, 1982)\n",
            "(8, 'Marshall', 'Katherine', 'Medical Officer Psych', 200000, 2008)\n",
            "(62, 'Owens', 'Karen', 'Dental Officer', 164800, 1989)\n",
            "(16, 'BROWN', 'KWAME', 'Chairman', 190000, 2005)\n",
            "(3, 'HENDERSON', 'KAYATANYA', 'Superintendent Of Schools', 275000, 2007)\n",
            "(27, 'Pestaner', 'Joseph', 'Medical Officer (medical Exami', 183892, 1997)\n",
            "(29, 'Morgan ', 'Johnson Sheila', 'Chief Investment Officer', 183677, 1991)\n",
            "(21, 'Ruland', 'Jeffrey', 'Dir Of The Ctr For Wf Str & Ec', 186911, 2009)\n",
            "(43, 'Wicker', 'Henry', 'Medical Officer Opthal', 168378, 1987)\n",
            "(60, 'Pappas', 'Gregory', 'Deputy Dir', 164800, 2011)\n",
            "(11, 'Baxter', 'Graeme', 'Act Provost & Vp Acd Aff', 196257, 2008)\n",
            "(18, 'Cooper', 'Ginnie', 'Executive Director', 188044, 2006)\n",
            "(14, 'Stanchfield', 'Eric', 'Executive Director', 193125, 2007)\n",
            "(6, 'Ritchie', 'Elspeth', 'Medical Officer Psych', 206000, 2010)\n",
            "(12, 'Miramontes', 'David', 'Medical Director', 193125, 2011)\n",
            "(54, 'Berns', 'David', 'Dir Of Human Services', 165200, 2011)\n",
            "(22, 'Parker', 'Craig', 'General Counsel', 186911, 2009)\n",
            "(4, 'Lanier', 'Cathy', 'Chief', 230743, 1990)\n",
            "(28, 'Revercomb', 'Carolyn', 'Medical Officer (medical Exami', 183892, 2005)\n",
            "(57, 'Flowers', 'Brian', 'General Counsel', 165000, 1985)\n",
            "(5, 'Arons', 'Bernard', 'Medical Officer Psych', 206000, 2008)\n",
            "(51, 'Adewale', 'Benjamin', 'Medical Officer (psychiatry)', 166370, 1988)\n",
            "(24, 'Otero', 'Beatriz', 'Dep Mayor For Hlth & Hum Svcs', 185000, 2011)\n",
            "(34, 'LUDWIG', 'BENJAMIN', 'Workers Compensation Recipient', 171517, 1972)\n",
            "(49, 'Singh', 'Anjali', 'Medical Officer (psychiatry)', 166370, 1999)\n",
            "(1, 'Lew', 'Allen', 'City Administrator', 295000, 2004)\n",
            "(2, 'Sessoms', 'Allen', 'President', 295000, 2008)\n",
            "(45, 'Jaji', 'Abayomi', 'Medical Officer (psychiatry)', 167062, 2000)\n"
          ]
        }
      ],
      "source": [
        "#3. Write a query to get all employee details from the employee table, order by first_name, in descending order.\n",
        "\n",
        "all_emp = \"SELECT * FROM employee ORDER BY First_name DESC\"\n",
        "cursor.execute(all_emp)\n",
        "result_all_emp = cursor.fetchall()\n",
        "for e in result_all_emp:\n",
        "    print(e)"
      ]
    },
    {
      "cell_type": "code",
      "execution_count": null,
      "metadata": {
        "id": "uflkEmH8a7wb",
        "outputId": "7547c144-f909-4e19-8ee0-034006b2ce3d"
      },
      "outputs": [
        {
          "name": "stdout",
          "output_type": "stream",
          "text": [
            "('Allen', 'Lew', 295000)\n",
            "('Allen', 'Sessoms', 295000)\n",
            "('KAYATANYA', 'HENDERSON', 275000)\n",
            "('Cathy', 'Lanier', 230743)\n",
            "('Bernard', 'Arons', 206000)\n",
            "('Elspeth', 'Ritchie', 206000)\n"
          ]
        }
      ],
      "source": [
        "#4.\tWrite a query that returns employees’ first_name, last_name and salary, for salary greater than 200,000.\n",
        "\n",
        "emp_200k = \"SELECT First_name, Last_name, Salary FROM employee WHERE Salary > 200000\"\n",
        "cursor.execute(emp_200k)\n",
        "result_emp_200k = cursor.fetchall()\n",
        "for e in result_emp_200k:\n",
        "    print(e)"
      ]
    },
    {
      "cell_type": "code",
      "execution_count": null,
      "metadata": {
        "id": "EWnuM0Sba7we",
        "outputId": "055178c9-5090-41ca-d66f-ddcdc478f66d"
      },
      "outputs": [
        {
          "name": "stdout",
          "output_type": "stream",
          "text": [
            "Record sucessfully updated\n"
          ]
        }
      ],
      "source": [
        "#5.\tOne of the employees whose first_name was RUDA got married and changed her last_name to Peter,\n",
        "# write a query to effect this change on her last name, thereafter,\n",
        "# write a query that returns all her details to enable you view the change made to her name.\n",
        "\n",
        "emp_ruda = \"UPDATE employee SET Last_name='PETER' WHERE Last_name='RUDA'\"\n",
        "cursor.execute(emp_ruda)\n",
        "print(\"Record sucessfully updated\")"
      ]
    },
    {
      "cell_type": "code",
      "execution_count": null,
      "metadata": {
        "id": "BjD642W4a7wg",
        "outputId": "cdd2b702-bbc4-4760-a00b-71954c5cfdc2"
      },
      "outputs": [
        {
          "data": {
            "text/plain": [
              "[(39, 'PETER', 'LISA', 'Chief Of Staff', 170000, 2007)]"
            ]
          },
          "execution_count": 72,
          "metadata": {},
          "output_type": "execute_result"
        }
      ],
      "source": [
        "ruda = \"SELECT * FROM employee WHERE Last_name='PETER'\"\n",
        "cursor.execute(ruda)\n",
        "result_ruda = cursor.fetchall()\n",
        "result_ruda"
      ]
    },
    {
      "cell_type": "code",
      "execution_count": null,
      "metadata": {
        "id": "hs_Ezp2Ca7wi",
        "outputId": "38c414ba-2730-43a4-b274-a2f47af4846e"
      },
      "outputs": [
        {
          "name": "stdout",
          "output_type": "stream",
          "text": [
            "Record sucessfully deleted\n"
          ]
        }
      ],
      "source": [
        "#6. One of the employees with last_name ‘KWAME’ left the organization for another job,\n",
        "# write a query that removes his name from the database.\n",
        "# View the whole table by writing another query to verify the change that was made to the employee.\n",
        "\n",
        "del_kwame = \"DELETE FROM employee WHERE First_name = 'KWAME'\"\n",
        "cursor.execute(del_kwame)\n",
        "print(\"Record sucessfully deleted\")"
      ]
    },
    {
      "cell_type": "code",
      "execution_count": null,
      "metadata": {
        "id": "B35XXn6ka7wk",
        "outputId": "97fb68a8-f548-4185-a539-1590e49be46b"
      },
      "outputs": [
        {
          "data": {
            "text/plain": [
              "[(1, 'Lew', 'Allen', 'City Administrator', 295000, 2004),\n",
              " (2, 'Sessoms', 'Allen', 'President', 295000, 2008),\n",
              " (3, 'HENDERSON', 'KAYATANYA', 'Superintendent Of Schools', 275000, 2007),\n",
              " (4, 'Lanier', 'Cathy', 'Chief', 230743, 1990),\n",
              " (5, 'Arons', 'Bernard', 'Medical Officer Psych', 206000, 2008),\n",
              " (6, 'Ritchie', 'Elspeth', 'Medical Officer Psych', 206000, 2010),\n",
              " (7, 'GRAY', 'VINCENT', 'Mayor', 200000, 2005),\n",
              " (8, 'Marshall', 'Katherine', 'Medical Officer Psych', 200000, 2008),\n",
              " (9, 'Gandhi', 'Natwar', 'Chief Financial Officer', 199700, 1997),\n",
              " (10, 'DUNCAN', 'LORETTA', 'Workers Compensation Recipient', 197808, 1984),\n",
              " (11, 'Baxter', 'Graeme', 'Act Provost & Vp Acd Aff', 196257, 2008),\n",
              " (12, 'Miramontes', 'David', 'Medical Director', 193125, 2011),\n",
              " (13, 'Graves', 'Warren', 'Chief Of Staff', 193125, 2011),\n",
              " (14, 'Stanchfield', 'Eric', 'Executive Director', 193125, 2007),\n",
              " (15, 'Jones', 'Tyler', 'Medical Officer Psych', 190550, 2008),\n",
              " (17, 'Eure', 'Philip', 'Executive Director', 188692, 2000),\n",
              " (18, 'Cooper', 'Ginnie', 'Executive Director', 188044, 2006),\n",
              " (19, 'Yadao', 'Nilda', 'Medical Officer (psychiatry)', 188027, 1987),\n",
              " (20, 'Ellerbe', 'Kenneth', 'Fire Chief', 187302, 2003),\n",
              " (21, 'Ruland', 'Jeffrey', 'Dir Of The Ctr For Wf Str & Ec', 186911, 2009),\n",
              " (22, 'Parker', 'Craig', 'General Counsel', 186911, 2009),\n",
              " (23, 'Farley', 'Mark', 'Vp  Human Resources', 186911, 2008),\n",
              " (24, 'Otero', 'Beatriz', 'Dep Mayor For Hlth & Hum Svcs', 185000, 2011),\n",
              " (25, 'Quander', 'Paul', 'Deputy Mayor', 185000, 2009),\n",
              " (26, 'Pierre ', 'Louis Marie', 'Chief Medical Examiner', 185000, 1985),\n",
              " (27, 'Pestaner', 'Joseph', 'Medical Officer (medical Exami', 183892, 1997),\n",
              " (28, 'Revercomb', 'Carolyn', 'Medical Officer (medical Exami', 183892, 2005),\n",
              " (29, 'Morgan ', 'Johnson Sheila', 'Chief Investment Officer', 183677, 1991),\n",
              " (30, 'Williamson', 'Michael', 'Deputy Director', 182000, 2011),\n",
              " (31, 'White', 'Mattie', 'Medical Officer (psychiatry)', 180604, 1989),\n",
              " (32, 'Park', 'Kyung', 'Medical Officer (psychiatry)', 180604, 1987),\n",
              " (33, 'Gore', 'T', 'Medical Officer (psychiatry)', 172101, 2005),\n",
              " (34, 'LUDWIG', 'BENJAMIN', 'Workers Compensation Recipient', 171517, 1972),\n",
              " (35, 'Atdjian', 'Sylvia', 'Medical Officer (psychiatry)', 170938, 2007),\n",
              " (36, 'Zaidi', 'Syed', 'Medical Officer (psychiatry)', 170344, 2005),\n",
              " (37, 'Sherron', 'Robert', 'Medical Officer (psychiatry)', 170344, 1991),\n",
              " (38, 'Johnson', 'Nicole', 'Medical Officer (psychiatry)', 170344, 2007),\n",
              " (39, 'PETER', 'LISA', 'Chief Of Staff', 170000, 2007),\n",
              " (40, 'Beers', 'Nathaniel', 'Deputy Superintendent', 170000, 2007),\n",
              " (41, 'Nuss', 'Laura', 'Director', 170000, 2007),\n",
              " (42, 'Mancini', 'Robert', 'Acting Director', 170000, 2004),\n",
              " (43, 'Wicker', 'Henry', 'Medical Officer Opthal', 168378, 1987),\n",
              " (44, 'Davenport', 'Nancy', 'Administrative Librarian', 167200, 2006),\n",
              " (45, 'Jaji', 'Abayomi', 'Medical Officer (psychiatry)', 167062, 2000),\n",
              " (46, 'Stevens', 'KyleeAnn', 'Medical Officer (psychiatry)', 167051, 2008),\n",
              " (47, 'Smothers', 'Kenneth', 'Medical Officer (psychiatry)', 166995, 1987),\n",
              " (48, 'Akhtar', 'Saleha', 'Medical Officer (psychiatry)', 166995, 1988),\n",
              " (49, 'Singh', 'Anjali', 'Medical Officer (psychiatry)', 166370, 1999),\n",
              " (50, 'Rahman', 'Umar', 'Medical Officer (psychiatry)', 166370, 1996),\n",
              " (51, 'Adewale', 'Benjamin', 'Medical Officer (psychiatry)', 166370, 1988),\n",
              " (52, 'Zaidi', 'Syed', 'Medical Officer General Practi', 165842, 1983),\n",
              " (53, 'Jackson', 'Kenneth', 'Assistant Fire Chief Srvs', 165306, 1982),\n",
              " (54, 'Berns', 'David', 'Dir Of Human Services', 165200, 2011),\n",
              " (55, 'Cordi', 'Stephen', 'Deputy Cfo Otr', 165162, 2008),\n",
              " (56, 'Mallory', 'Lisa', 'Acting Director', 165000, 2004),\n",
              " (57, 'Flowers', 'Brian', 'General Counsel', 165000, 1985),\n",
              " (58, 'Bellamy', 'Terry', 'Director', 165000, 2008),\n",
              " (59, 'West', 'Millicent', 'Director Homeland Sec & Ema', 165000, 2003),\n",
              " (60, 'Pappas', 'Gregory', 'Deputy Dir', 164800, 2011),\n",
              " (61, 'Altaf', 'Samia', 'Supervisor Medical Officer', 164800, 2010),\n",
              " (62, 'Owens', 'Karen', 'Dental Officer', 164800, 1989)]"
            ]
          },
          "execution_count": 16,
          "metadata": {},
          "output_type": "execute_result"
        }
      ],
      "source": [
        "# verify 'KWAME' has been removed\n",
        "\n",
        "emp_all = \"SELECT * FROM employee\"\n",
        "cursor.execute(emp_all)\n",
        "result_emp_all = cursor.fetchall()\n",
        "result_emp_all"
      ]
    },
    {
      "cell_type": "code",
      "execution_count": null,
      "metadata": {
        "id": "5vIw_gRAa7wl",
        "outputId": "ead877f9-b7c3-4a5b-a3c0-00144b32733a"
      },
      "outputs": [
        {
          "name": "stdout",
          "output_type": "stream",
          "text": [
            "Column successfully updated\n"
          ]
        }
      ],
      "source": [
        "#7. Write a query that renames the column “Position” to “job_role”\n",
        "\n",
        "position_to_job_role = \"ALTER TABLE employee RENAME COLUMN Position TO Job_role\"\n",
        "cursor.execute(position_to_job_role)\n",
        "print(\"Column successfully updated\")"
      ]
    },
    {
      "cell_type": "code",
      "execution_count": null,
      "metadata": {
        "id": "h8QTNWb4a7wn",
        "outputId": "edcfb556-0b38-401a-eecd-5ce8b7d1d0da"
      },
      "outputs": [
        {
          "data": {
            "text/plain": [
              "[(60, 'Gregory Pappas', 164800),\n",
              " (61, 'Samia Altaf', 164800),\n",
              " (62, 'Karen Owens', 164800),\n",
              " (56, 'Lisa Mallory', 165000),\n",
              " (57, 'Brian Flowers', 165000),\n",
              " (58, 'Terry Bellamy', 165000),\n",
              " (59, 'Millicent West', 165000),\n",
              " (55, 'Stephen Cordi', 165162),\n",
              " (54, 'David Berns', 165200),\n",
              " (53, 'Kenneth Jackson', 165306),\n",
              " (52, 'Syed Zaidi', 165842),\n",
              " (49, 'Anjali Singh', 166370),\n",
              " (50, 'Umar Rahman', 166370),\n",
              " (51, 'Benjamin Adewale', 166370),\n",
              " (47, 'Kenneth Smothers', 166995),\n",
              " (48, 'Saleha Akhtar', 166995),\n",
              " (46, 'KyleeAnn Stevens', 167051),\n",
              " (45, 'Abayomi Jaji', 167062),\n",
              " (44, 'Nancy Davenport', 167200),\n",
              " (43, 'Henry Wicker', 168378),\n",
              " (39, 'LISA PETER', 170000),\n",
              " (40, 'Nathaniel Beers', 170000),\n",
              " (41, 'Laura Nuss', 170000),\n",
              " (42, 'Robert Mancini', 170000),\n",
              " (36, 'Syed Zaidi', 170344),\n",
              " (37, 'Robert Sherron', 170344),\n",
              " (38, 'Nicole Johnson', 170344),\n",
              " (35, 'Sylvia Atdjian', 170938),\n",
              " (34, 'BENJAMIN LUDWIG', 171517),\n",
              " (33, 'T Gore', 172101),\n",
              " (31, 'Mattie White', 180604),\n",
              " (32, 'Kyung Park', 180604),\n",
              " (30, 'Michael Williamson', 182000),\n",
              " (29, 'Johnson Sheila Morgan ', 183677),\n",
              " (27, 'Joseph Pestaner', 183892),\n",
              " (28, 'Carolyn Revercomb', 183892),\n",
              " (24, 'Beatriz Otero', 185000),\n",
              " (25, 'Paul Quander', 185000),\n",
              " (26, 'Louis Marie Pierre ', 185000),\n",
              " (21, 'Jeffrey Ruland', 186911),\n",
              " (22, 'Craig Parker', 186911),\n",
              " (23, 'Mark Farley', 186911),\n",
              " (20, 'Kenneth Ellerbe', 187302),\n",
              " (19, 'Nilda Yadao', 188027),\n",
              " (18, 'Ginnie Cooper', 188044),\n",
              " (17, 'Philip Eure', 188692),\n",
              " (15, 'Tyler Jones', 190550),\n",
              " (12, 'David Miramontes', 193125),\n",
              " (13, 'Warren Graves', 193125),\n",
              " (14, 'Eric Stanchfield', 193125),\n",
              " (11, 'Graeme Baxter', 196257),\n",
              " (10, 'LORETTA DUNCAN', 197808),\n",
              " (9, 'Natwar Gandhi', 199700),\n",
              " (7, 'VINCENT GRAY', 200000),\n",
              " (8, 'Katherine Marshall', 200000),\n",
              " (5, 'Bernard Arons', 206000),\n",
              " (6, 'Elspeth Ritchie', 206000),\n",
              " (4, 'Cathy Lanier', 230743),\n",
              " (3, 'KAYATANYA HENDERSON', 275000),\n",
              " (1, 'Allen Lew', 295000),\n",
              " (2, 'Allen Sessoms', 295000)]"
            ]
          },
          "execution_count": 38,
          "metadata": {},
          "output_type": "execute_result"
        }
      ],
      "source": [
        "#8. Write a query to get the employee_id, (first_name, last_name), salary in ascending order of salary.\n",
        "# Alias the first_name and last_name as “Name”.\n",
        "\n",
        "emp_asc = \"SELECT Employee_id, First_name|| ' ' ||Last_name AS Name, Salary FROM employee ORDER BY Salary ASC\"\n",
        "cursor.execute(emp_asc)\n",
        "result_emp_asc = cursor.fetchall()\n",
        "result_emp_asc"
      ]
    },
    {
      "cell_type": "code",
      "execution_count": null,
      "metadata": {
        "id": "FLj5pQuCa7wo",
        "outputId": "23e6bf09-1889-4bec-fc18-655882c5903e"
      },
      "outputs": [
        {
          "data": {
            "text/plain": [
              "[(6,)]"
            ]
          },
          "execution_count": 51,
          "metadata": {},
          "output_type": "execute_result"
        }
      ],
      "source": [
        "#9. Write a query that gives the count of employees whose salaries are greater than 200,000.\n",
        "# [Hint: Use the “COUNT” clause]\n",
        "\n",
        "cnt_emp_gt_200k = \"SELECT COUNT(Employee_id) FROM employee WHERE Salary > 200000\"\n",
        "cursor.execute(cnt_emp_gt_200k)\n",
        "result_cnt_emp_gt_200k = cursor.fetchall()\n",
        "result_cnt_emp_gt_200k"
      ]
    },
    {
      "cell_type": "code",
      "execution_count": null,
      "metadata": {
        "id": "HgSnABCLa7wp",
        "outputId": "a0285bec-c6e1-41fb-ec13-b3b4d5c37ffb"
      },
      "outputs": [
        {
          "name": "stdout",
          "output_type": "stream",
          "text": [
            "Maximum Salary : [(295000,)]\n",
            "Minimum Salary : [(164800,)]\n"
          ]
        }
      ],
      "source": [
        "#10. Write a query to get the maximum and minimum salary from the employees table.\n",
        "# [Hint: Use the MAX, MIN functions]\n",
        "\n",
        "max_sal = \"SELECT MAX(Salary) FROM employee\"\n",
        "cursor.execute(max_sal)\n",
        "result_max_sal = cursor.fetchall()\n",
        "print(\"Maximum Salary :\" ,result_max_sal)\n",
        "\n",
        "min_sal = \"SELECT MIN(Salary) FROM employee\"\n",
        "cursor.execute(min_sal)\n",
        "result_min_sal = cursor.fetchall()\n",
        "print(\"Minimum Salary :\" ,result_min_sal)"
      ]
    },
    {
      "cell_type": "code",
      "execution_count": null,
      "metadata": {
        "id": "Zq14Hxhya7wr"
      },
      "outputs": [],
      "source": [
        "conn.commit()\n",
        "conn.close()"
      ]
    }
  ],
  "metadata": {
    "kernelspec": {
      "display_name": "Python 3 (ipykernel)",
      "language": "python",
      "name": "python3"
    },
    "language_info": {
      "codemirror_mode": {
        "name": "ipython",
        "version": 3
      },
      "file_extension": ".py",
      "mimetype": "text/x-python",
      "name": "python",
      "nbconvert_exporter": "python",
      "pygments_lexer": "ipython3",
      "version": "3.9.7"
    },
    "vscode": {
      "interpreter": {
        "hash": "a359685e08922bcebbd2698e137097bd4e5596a613ee512a9c1ead37d8d76759"
      }
    },
    "colab": {
      "provenance": []
    }
  },
  "nbformat": 4,
  "nbformat_minor": 0
}
{
 "cells": [
  {
   "cell_type": "markdown",
   "id": "0fdf9b68",
   "metadata": {},
   "source": [
    "**Assignment 1: Create a function that adds three numbers together with the third number multiplied by 7**"
   ]
  },
  {
   "cell_type": "code",
   "execution_count": 3,
   "id": "36933868",
   "metadata": {},
   "outputs": [
    {
     "data": {
      "text/plain": [
       "24"
      ]
     },
     "execution_count": 3,
     "metadata": {},
     "output_type": "execute_result"
    }
   ],
   "source": [
    "def add_three(a,b,c):\n",
    "    \"\"\" This function that adds three numbers together with the third number multiplied by 7 \"\"\"\n",
    "    return a+b+c*7\n",
    "add_three(1,2,3)"
   ]
  },
  {
   "cell_type": "markdown",
   "id": "be4aeca8",
   "metadata": {},
   "source": [
    "**Assignment 2: Create a function with the print statement that gives brief introduction about yourself**"
   ]
  },
  {
   "cell_type": "code",
   "execution_count": 8,
   "id": "8a756dca",
   "metadata": {},
   "outputs": [
    {
     "name": "stdout",
     "output_type": "stream",
     "text": [
      "Aminat Owodunni is a Data Scientist with Masters in Public health, using Python for machine leaning, Power Bi, predictive analysis and exploration.\n"
     ]
    }
   ],
   "source": [
    "def introduction(first_name, last_name):\n",
    "    print(first_name + \" \" + last_name + \" \"+ \"is a Data Scientist with Masters in Public health, using Python for machine leaning, Power Bi, predictive analysis and exploration.\")\n",
    "introduction('Aminat', 'Owodunni')   "
   ]
  }
 ],
 "metadata": {
  "kernelspec": {
   "display_name": "Python 3 (ipykernel)",
   "language": "python",
   "name": "python3"
  },
  "language_info": {
   "codemirror_mode": {
    "name": "ipython",
    "version": 3
   },
   "file_extension": ".py",
   "mimetype": "text/x-python",
   "name": "python",
   "nbconvert_exporter": "python",
   "pygments_lexer": "ipython3",
   "version": "3.9.7"
  }
 },
 "nbformat": 4,
 "nbformat_minor": 5
}

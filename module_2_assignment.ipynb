{
  "cells": [
    {
      "cell_type": "markdown",
      "id": "7d17c003-b142-4e1a-b48f-21d29ec3dbaa",
      "metadata": {
        "id": "7d17c003-b142-4e1a-b48f-21d29ec3dbaa"
      },
      "source": [
        "# Module 2 (Assignment)"
      ]
    },
    {
      "cell_type": "markdown",
      "id": "c4e0ade3-8b31-4601-93a6-64d4f5746c00",
      "metadata": {
        "id": "c4e0ade3-8b31-4601-93a6-64d4f5746c00"
      },
      "source": [
        "### Qs 1. \n",
        "a. Write a function called `make_album()` that builds a dictionary describing a music album. The function should take in an artist name and an\n",
        "album title, and it should return a dictionary containing these two pieces of information. Use the function to make three dictionaries representing different albums. \n",
        "Print each return value to show that the dictionaries are storing the \n",
        "album information correctly.\n",
        "    \n",
        "b. Use `None` to add an optional parameter to `make_album()` that allows you to store the number of songs on an album. If the calling line includes a value for\n",
        "the number of songs, add that value to the album’s dictionary. Make at least one new function call that includes the number of songs on an album.\n",
        "\n",
        "    \n",
        "c. Write an updated version of the function above called `make_album_updated()` that accepts the ***required*** arguments `artist_name`, `album_title`, `num_of_songs` and some ***optional*** arguments like `year_released`, etc."
      ]
    },
    {
      "cell_type": "code",
      "execution_count": 1,
      "id": "ad9150c6-90a8-4dfa-81b2-c0c4365012ac",
      "metadata": {
        "scrolled": true,
        "id": "ad9150c6-90a8-4dfa-81b2-c0c4365012ac",
        "colab": {
          "base_uri": "https://localhost:8080/"
        },
        "outputId": "33fa8688-6e82-4ee5-a4a0-2a0b0f049880"
      },
      "outputs": [
        {
          "output_type": "stream",
          "name": "stdout",
          "text": [
            "{'Aminat': 'The virtious woman'}\n",
            "{'Maryam': 'The pure lady'}\n",
            "{'Nurudeen': 'The Guidance'}\n"
          ]
        }
      ],
      "source": [
        "# Enter your code here\n",
        "#a\n",
        "def make_album(artist_name,album_title):\n",
        "  \"\"\"Builds a dictionary describing a music album\"\"\"\n",
        "  d = dict()\n",
        "  d[artist_name]=album_title\n",
        "  return d\n",
        "\n",
        "#call function\n",
        "print(make_album('Aminat','The virtious woman'))\n",
        "print(make_album('Maryam','The pure lady'))\n",
        "print(make_album('Nurudeen','The Guidance'))"
      ]
    },
    {
      "cell_type": "code",
      "source": [
        "#b\n",
        "def make_album(artist_name,album_title, num_of_songs = None):\n",
        "  return {artist_name:{'Album_title':album_title,'Num_of_songs':num_of_songs}}\n",
        "make_album('Aminat','The virtious woman', 3)"
      ],
      "metadata": {
        "colab": {
          "base_uri": "https://localhost:8080/"
        },
        "id": "c6IKdYaROO7C",
        "outputId": "5178b587-4a18-46e6-9420-04f9e483cbe1"
      },
      "id": "c6IKdYaROO7C",
      "execution_count": 2,
      "outputs": [
        {
          "output_type": "execute_result",
          "data": {
            "text/plain": [
              "{'Aminat': {'Album_title': 'The virtious woman', 'Num_of_songs': 3}}"
            ]
          },
          "metadata": {},
          "execution_count": 2
        }
      ]
    },
    {
      "cell_type": "code",
      "source": [
        "#c\n",
        "def make_album_updated(artist_name,album_title, num_of_songs, year_released = 1):\n",
        "   d = {artist_name:{'Album_title':album_title,'Num_of_songs':num_of_songs, 'Year_released':year_released}}\n",
        "   return d\n",
        "print(make_album_updated('Aminat','The virtious woman', 3, 2022))\n"
      ],
      "metadata": {
        "colab": {
          "base_uri": "https://localhost:8080/"
        },
        "id": "Bh5Jqa8wRZhT",
        "outputId": "a3de347e-56ab-4626-a6b0-f9188eb27dcb"
      },
      "id": "Bh5Jqa8wRZhT",
      "execution_count": 3,
      "outputs": [
        {
          "output_type": "stream",
          "name": "stdout",
          "text": [
            "{'Aminat': {'Album_title': 'The virtious woman', 'Num_of_songs': 3, 'Year_released': 2022}}\n"
          ]
        }
      ]
    },
    {
      "cell_type": "markdown",
      "id": "d7084130-c60d-4f91-9bea-a4426b620935",
      "metadata": {
        "id": "d7084130-c60d-4f91-9bea-a4426b620935"
      },
      "source": [
        "### Qs 2. \n",
        "\n",
        "* Write an `if-elif-else` chain that determines a person’s stage of life. Set a value for the variable `age`, and then:\n",
        "    * If the person is ***less than 2 years old***, print a message that the person is a ***baby***.\n",
        "    * If the person is ***at least 2 years old but less than 4***, print a message that the person is a ***toddler***.\n",
        "    * If the person is ***at least 4 years old but less than 13***, print a message that the person is a ***kid***.\n",
        "    * If the person is ***at least 13 years old but less than 20***, print a message that the person is a ***teenager***.\n",
        "    * If the person is ***at least 20 years old but less than 65***, print a message that the person is an ***adult***.\n",
        "    * If the person is ***age 65 or older***, print a message that the person is an ***elder***."
      ]
    },
    {
      "cell_type": "code",
      "source": [
        "age = 70\n",
        "if age >= 65:\n",
        "    print('The person is a elder')\n",
        "elif 20<= age <65:\n",
        "    print('The person is a adult')\n",
        "elif 13<= age <20:\n",
        "    print(' The person is a teenager')\n",
        "elif 4<= age <13:\n",
        "    print('The person is a kid')\n",
        "elif 2<= age <4:\n",
        "    print('The person is an toddler')\n",
        "else:\n",
        "    print('The person is a baby')"
      ],
      "metadata": {
        "colab": {
          "base_uri": "https://localhost:8080/"
        },
        "id": "LTZOikEIq5ec",
        "outputId": "2a11d8a3-089a-4608-fa54-49ead523dde0"
      },
      "id": "LTZOikEIq5ec",
      "execution_count": 5,
      "outputs": [
        {
          "output_type": "stream",
          "name": "stdout",
          "text": [
            "The person is a elder\n"
          ]
        }
      ]
    },
    {
      "cell_type": "code",
      "execution_count": 4,
      "id": "97c56b2a-1395-4894-be9f-7739aa190dea",
      "metadata": {
        "scrolled": true,
        "id": "97c56b2a-1395-4894-be9f-7739aa190dea",
        "colab": {
          "base_uri": "https://localhost:8080/"
        },
        "outputId": "fc50c4a9-7f55-44a4-fc01-b46dac3ffa93"
      },
      "outputs": [
        {
          "output_type": "stream",
          "name": "stdout",
          "text": [
            "The person is a baby\n"
          ]
        }
      ],
      "source": [
        "# Enter your code here\n",
        "age = 1\n",
        "if age >= 65:\n",
        "    print('The person is a elder')\n",
        "elif age >= 20:\n",
        "    print('The person is a adult')\n",
        "elif age >= 13:\n",
        "    print(' The person is a teenager')\n",
        "elif age >= 4:\n",
        "    print('The person is a kid')\n",
        "elif age >= 2:\n",
        "    print('The person is an toddler')\n",
        "else:\n",
        "    print('The person is a baby')"
      ]
    },
    {
      "cell_type": "markdown",
      "id": "e9728419-f5b9-47c2-bca4-161094de2718",
      "metadata": {
        "id": "e9728419-f5b9-47c2-bca4-161094de2718"
      },
      "source": [
        "### Qs 3. \n",
        "Given the string **\"For the winter break I had a list of stories I wanted to write\"**. Write a program that:\n",
        "\n",
        "a. creates a ***list*** containing each word as an element in the list.\n",
        "\n",
        "b. turns all the ***words*** in the string to ***title casing***.\n",
        "\n",
        "c. turns all the ***words*** in the string to ***upper casing***."
      ]
    },
    {
      "cell_type": "code",
      "execution_count": 19,
      "id": "5aec5259-59b8-4d3b-9724-4307c90f4ed3",
      "metadata": {
        "scrolled": true,
        "id": "5aec5259-59b8-4d3b-9724-4307c90f4ed3",
        "colab": {
          "base_uri": "https://localhost:8080/"
        },
        "outputId": "ff7c9012-8af1-44f3-98d6-721b4ce45b23"
      },
      "outputs": [
        {
          "output_type": "stream",
          "name": "stdout",
          "text": [
            "['For', 'the', 'winter', 'break', 'I', 'had', 'a', 'list', 'of', 'stories', 'I', 'wanted', 'to', 'write']\n"
          ]
        }
      ],
      "source": [
        "# Enter your code here\n",
        "string = \"For the winter break I had a list of stories I wanted to write\"\n",
        "#a\n",
        "list_ = [word for word in string.split(\" \")]\n",
        "print(list_)"
      ]
    },
    {
      "cell_type": "code",
      "source": [
        "#b\n",
        "string_title = string.title()\n",
        "string_title"
      ],
      "metadata": {
        "colab": {
          "base_uri": "https://localhost:8080/",
          "height": 36
        },
        "id": "B948hHe9eNvG",
        "outputId": "fd224eff-cd35-427c-e251-215bd599df8d"
      },
      "id": "B948hHe9eNvG",
      "execution_count": 7,
      "outputs": [
        {
          "output_type": "execute_result",
          "data": {
            "text/plain": [
              "'For The Winter Break I Had A List Of Stories I Wanted To Write'"
            ],
            "application/vnd.google.colaboratory.intrinsic+json": {
              "type": "string"
            }
          },
          "metadata": {},
          "execution_count": 7
        }
      ]
    },
    {
      "cell_type": "code",
      "source": [
        "#c\n",
        "string_upper =  string.upper()\n",
        "string_upper"
      ],
      "metadata": {
        "colab": {
          "base_uri": "https://localhost:8080/",
          "height": 36
        },
        "id": "CTm8_mOad1mQ",
        "outputId": "07783c87-2d29-47af-aa9f-7be360188a4b"
      },
      "id": "CTm8_mOad1mQ",
      "execution_count": 8,
      "outputs": [
        {
          "output_type": "execute_result",
          "data": {
            "text/plain": [
              "'FOR THE WINTER BREAK I HAD A LIST OF STORIES I WANTED TO WRITE'"
            ],
            "application/vnd.google.colaboratory.intrinsic+json": {
              "type": "string"
            }
          },
          "metadata": {},
          "execution_count": 8
        }
      ]
    },
    {
      "cell_type": "markdown",
      "id": "267642c5-69c1-4dd2-8c86-01b1b981ace7",
      "metadata": {
        "id": "267642c5-69c1-4dd2-8c86-01b1b981ace7"
      },
      "source": [
        "### Qs 4. \n",
        "Make a dictionary called `cities`. Use the names of three cities as keys in your dictionary. Create a dictionary of information about each city and\n",
        "include the country that the city is in, its approximate population, and one fact about that city. The keys for each city’s dictionary should be something like\n",
        "***country***, ***population***, and ***fact***. Print the name of each city and all of the information you have stored about it."
      ]
    },
    {
      "cell_type": "code",
      "execution_count": 9,
      "id": "c8fd468d-bcd7-4f51-afff-b4cf573aac70",
      "metadata": {
        "scrolled": true,
        "id": "c8fd468d-bcd7-4f51-afff-b4cf573aac70",
        "colab": {
          "base_uri": "https://localhost:8080/"
        },
        "outputId": "5c4a2927-252d-4a90-b748-de9438b42805"
      },
      "outputs": [
        {
          "output_type": "execute_result",
          "data": {
            "text/plain": [
              "{'Lagos': {'population': 4000000, 'fact': 'Centre of Excellency'},\n",
              " 'Ogun': {'population': 2000000, 'fact': 'Gateway State'},\n",
              " 'Kogi': {'population': 1500000, 'fact': 'Confluence State'}}"
            ]
          },
          "metadata": {},
          "execution_count": 9
        }
      ],
      "source": [
        "# Enter your code here\n",
        "cities = {'Lagos':{'population':4000000,'fact':'Centre of Excellency'},\n",
        "          'Ogun':{'population':2000000,'fact':'Gateway State'},\n",
        "          'Kogi':{'population':1500000,'fact':'Confluence State'}\n",
        "          }\n",
        "cities"
      ]
    },
    {
      "cell_type": "markdown",
      "id": "006cd37a-9d4b-4b4e-a1b7-5a4252c9bb46",
      "metadata": {
        "tags": [],
        "id": "006cd37a-9d4b-4b4e-a1b7-5a4252c9bb46"
      },
      "source": [
        "### Qs 5. \n",
        "Write a Python function called `calculate_length_of_dict_values()` to find the ***length*** of a given dictionary values. \n",
        "e.g\n",
        "\n",
        "```Python\n",
        "my_dict = {1: 'red', 2: 'green', 3: 'black', 4: 'white'}\n",
        "\n",
        "calculate_length_of_dict_values(my_dict)\n",
        "```\n",
        "**`Output`**:\n",
        "```Python\n",
        "{'red': 3, 'green': 5, 'black': 5, 'white': 5}\n",
        "```"
      ]
    },
    {
      "cell_type": "code",
      "source": [
        "# Enter your code here\n",
        "def calculate_length_of_dict_values(my_dict):\n",
        "  length = len(my_dict.values())\n",
        "  return(length)\n",
        "#call function\n",
        "my_dict = {1: 'red', 2: 'green', 3: 'black', 4: 'white'}\n",
        "calculate_length_of_dict_values(my_dict) "
      ],
      "metadata": {
        "colab": {
          "base_uri": "https://localhost:8080/"
        },
        "id": "v9yJwWS4vTfU",
        "outputId": "1aa166d9-e76a-46c6-bca9-0f3523e41de9"
      },
      "id": "v9yJwWS4vTfU",
      "execution_count": 22,
      "outputs": [
        {
          "output_type": "execute_result",
          "data": {
            "text/plain": [
              "4"
            ]
          },
          "metadata": {},
          "execution_count": 22
        }
      ]
    },
    {
      "cell_type": "markdown",
      "id": "27539883-af94-46d2-bdad-def7a42dccdf",
      "metadata": {
        "id": "27539883-af94-46d2-bdad-def7a42dccdf"
      },
      "source": [
        "### Qs 6. \n",
        "Given the dict: \n",
        "\n",
        "```Python\n",
        "my_dict = {\n",
        "    \"isbn\": \"123-456-222\",\n",
        "    \"author\": {\"lastname\": \"Doe\", \"firstname\": \"Jane\"},\n",
        "    \"editor\": {\"lastname\": \"Smith\", \"firstname\": \"Jane\"},\n",
        "    \"title\": \"The Ultimate Database Study Guide\",\n",
        "    \"category\": [\"Non-Fiction\", \"Technology\"],\n",
        "}\n",
        "```\n",
        "\n",
        "a. select the category `Technology`.\n",
        "\n",
        "b. select the editior's `firstname`."
      ]
    },
    {
      "cell_type": "code",
      "execution_count": 11,
      "id": "e8d00a8a-7462-487f-8527-717d75458abd",
      "metadata": {
        "scrolled": true,
        "id": "e8d00a8a-7462-487f-8527-717d75458abd",
        "colab": {
          "base_uri": "https://localhost:8080/"
        },
        "outputId": "b0cbd429-e83d-4799-f456-405d40e11d80"
      },
      "outputs": [
        {
          "output_type": "execute_result",
          "data": {
            "text/plain": [
              "{'isbn': '123-456-222',\n",
              " 'author': {'lastname': 'Doe', 'firstname': 'Jane'},\n",
              " 'editor': {'lastname': 'Smith', 'firstname': 'Jane'},\n",
              " 'title': 'The Ultimate Database Study Guide',\n",
              " 'category': ['Non-Fiction', 'Technology']}"
            ]
          },
          "metadata": {},
          "execution_count": 11
        }
      ],
      "source": [
        "# Enter your code here\n",
        "my_dict = {\n",
        "    \"isbn\": \"123-456-222\",\n",
        "    \"author\": {\"lastname\": \"Doe\", \"firstname\": \"Jane\"},\n",
        "    \"editor\": {\"lastname\": \"Smith\", \"firstname\": \"Jane\"},\n",
        "    \"title\": \"The Ultimate Database Study Guide\",\n",
        "    \"category\": [\"Non-Fiction\", \"Technology\"]\n",
        "    }\n",
        "my_dict"
      ]
    },
    {
      "cell_type": "code",
      "execution_count": 12,
      "id": "1d86401d-74e3-4f10-b30c-d4411f0ae05b",
      "metadata": {
        "scrolled": true,
        "id": "1d86401d-74e3-4f10-b30c-d4411f0ae05b",
        "colab": {
          "base_uri": "https://localhost:8080/",
          "height": 36
        },
        "outputId": "0c173316-2087-4ffb-d7b0-edfb306d990b"
      },
      "outputs": [
        {
          "output_type": "execute_result",
          "data": {
            "text/plain": [
              "'Technology'"
            ],
            "application/vnd.google.colaboratory.intrinsic+json": {
              "type": "string"
            }
          },
          "metadata": {},
          "execution_count": 12
        }
      ],
      "source": [
        "#a\n",
        "my_dict['category'][1]"
      ]
    },
    {
      "cell_type": "code",
      "source": [
        "#b\n",
        "my_dict['editor']['firstname']"
      ],
      "metadata": {
        "colab": {
          "base_uri": "https://localhost:8080/",
          "height": 36
        },
        "id": "cuRmQal86z62",
        "outputId": "2aff5685-4da1-4a13-c59b-507416f0b39d"
      },
      "id": "cuRmQal86z62",
      "execution_count": 13,
      "outputs": [
        {
          "output_type": "execute_result",
          "data": {
            "text/plain": [
              "'Jane'"
            ],
            "application/vnd.google.colaboratory.intrinsic+json": {
              "type": "string"
            }
          },
          "metadata": {},
          "execution_count": 13
        }
      ]
    }
  ],
  "metadata": {
    "kernelspec": {
      "display_name": "ds_personal",
      "language": "python",
      "name": "ds_personal"
    },
    "language_info": {
      "codemirror_mode": {
        "name": "ipython",
        "version": 3
      },
      "file_extension": ".py",
      "mimetype": "text/x-python",
      "name": "python",
      "nbconvert_exporter": "python",
      "pygments_lexer": "ipython3",
      "version": "3.10.0"
    },
    "colab": {
      "provenance": [],
      "collapsed_sections": []
    }
  },
  "nbformat": 4,
  "nbformat_minor": 5
}